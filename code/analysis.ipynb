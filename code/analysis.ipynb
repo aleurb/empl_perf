{
 "cells": [
  {
   "cell_type": "markdown",
   "id": "f778f012",
   "metadata": {},
   "source": [
    "# Employee performance analysis with `Python`\n",
    "\n",
    "```\n",
    "@author: Aleksandras Urbonas\n",
    "@date  : 20241211 ALUR\n",
    "@email : aleksandras . urbonas (.) gmail . com\n",
    "```\n"
   ]
  },
  {
   "cell_type": "markdown",
   "id": "509bfdd4",
   "metadata": {},
   "source": [
    "---\n",
    "\n",
    "# 0. Config\n",
    "\n"
   ]
  },
  {
   "cell_type": "code",
   "execution_count": 1,
   "id": "c20b14c1",
   "metadata": {},
   "outputs": [],
   "source": [
    "import pandas as pd\n",
    "import numpy as np\n",
    "import seaborn as sns\n",
    "import matplotlib.pyplot as plt\n",
    "\n",
    "# set chart size\n",
    "sns.set_theme(rc={'figure.figsize':(3,3)})\n",
    "\n"
   ]
  },
  {
   "cell_type": "markdown",
   "id": "8a165f09",
   "metadata": {},
   "source": [
    "---\n",
    "\n",
    "# 1. Import data\n",
    "\n"
   ]
  },
  {
   "cell_type": "code",
   "execution_count": 2,
   "id": "ee1cc5d6",
   "metadata": {},
   "outputs": [],
   "source": [
    "raw_data_file_path = 'data/00_original/moondash_data.xlsx'\n",
    "\n",
    "# Load the data\n",
    "employee_data = pd.read_excel(raw_data_file_path, sheet_name='Employee Roster')\n",
    "outcome_data = pd.read_excel(raw_data_file_path, sheet_name='Mid-Year Outcomes')\n",
    "\n"
   ]
  },
  {
   "cell_type": "code",
   "execution_count": 3,
   "id": "7c284f21",
   "metadata": {},
   "outputs": [],
   "source": [
    "# Merge the data on employee_id\n",
    "data_merged = pd.merge(employee_data, outcome_data, on='employee_id')\n",
    "data_merged.set_index('employee_id', inplace=True)\n",
    "# data.head(2)\n",
    "\n"
   ]
  },
  {
   "cell_type": "code",
   "execution_count": 4,
   "id": "d360a046",
   "metadata": {},
   "outputs": [
    {
     "data": {
      "text/html": [
       "<div>\n",
       "<style scoped>\n",
       "    .dataframe tbody tr th:only-of-type {\n",
       "        vertical-align: middle;\n",
       "    }\n",
       "\n",
       "    .dataframe tbody tr th {\n",
       "        vertical-align: top;\n",
       "    }\n",
       "\n",
       "    .dataframe thead th {\n",
       "        text-align: right;\n",
       "    }\n",
       "</style>\n",
       "<table border=\"1\" class=\"dataframe\">\n",
       "  <thead>\n",
       "    <tr style=\"text-align: right;\">\n",
       "      <th></th>\n",
       "      <th>hire_date</th>\n",
       "      <th>job_level</th>\n",
       "      <th>job_function</th>\n",
       "      <th>region</th>\n",
       "      <th>age</th>\n",
       "      <th>gender</th>\n",
       "      <th>perf_rating</th>\n",
       "      <th>promo_decision</th>\n",
       "    </tr>\n",
       "    <tr>\n",
       "      <th>employee_id</th>\n",
       "      <th></th>\n",
       "      <th></th>\n",
       "      <th></th>\n",
       "      <th></th>\n",
       "      <th></th>\n",
       "      <th></th>\n",
       "      <th></th>\n",
       "      <th></th>\n",
       "    </tr>\n",
       "  </thead>\n",
       "  <tbody>\n",
       "    <tr>\n",
       "      <th>1</th>\n",
       "      <td>2019-09-04</td>\n",
       "      <td>T7</td>\n",
       "      <td>G&amp;A</td>\n",
       "      <td>US2</td>\n",
       "      <td>28.707501</td>\n",
       "      <td>women/non-binary</td>\n",
       "      <td>3-Exceeds Expectations</td>\n",
       "      <td>NaN</td>\n",
       "    </tr>\n",
       "    <tr>\n",
       "      <th>2</th>\n",
       "      <td>2023-02-16</td>\n",
       "      <td>T7</td>\n",
       "      <td>Engineering</td>\n",
       "      <td>US1</td>\n",
       "      <td>33.589867</td>\n",
       "      <td>men</td>\n",
       "      <td>3-Exceeds Expectations</td>\n",
       "      <td>NaN</td>\n",
       "    </tr>\n",
       "  </tbody>\n",
       "</table>\n",
       "</div>"
      ],
      "text/plain": [
       "              hire_date job_level job_function region        age  \\\n",
       "employee_id                                                        \n",
       "1            2019-09-04        T7          G&A    US2  28.707501   \n",
       "2            2023-02-16        T7  Engineering    US1  33.589867   \n",
       "\n",
       "                       gender             perf_rating promo_decision  \n",
       "employee_id                                                           \n",
       "1            women/non-binary  3-Exceeds Expectations            NaN  \n",
       "2                         men  3-Exceeds Expectations            NaN  "
      ]
     },
     "execution_count": 4,
     "metadata": {},
     "output_type": "execute_result"
    }
   ],
   "source": [
    "# Display the first few rows to understand the structure\n",
    "data_merged.head(2)\n",
    "\n"
   ]
  },
  {
   "cell_type": "code",
   "execution_count": 5,
   "id": "848df31d",
   "metadata": {},
   "outputs": [
    {
     "name": "stdout",
     "output_type": "stream",
     "text": [
      "<class 'pandas.core.frame.DataFrame'>\n",
      "Int64Index: 8012 entries, 1 to 8012\n",
      "Data columns (total 8 columns):\n",
      " #   Column          Non-Null Count  Dtype  \n",
      "---  ------          --------------  -----  \n",
      " 0   hire_date       8012 non-null   object \n",
      " 1   job_level       8012 non-null   object \n",
      " 2   job_function    8012 non-null   object \n",
      " 3   region          8012 non-null   object \n",
      " 4   age             8012 non-null   float64\n",
      " 5   gender          8012 non-null   object \n",
      " 6   perf_rating     8012 non-null   object \n",
      " 7   promo_decision  346 non-null    object \n",
      "dtypes: float64(1), object(7)\n",
      "memory usage: 563.3+ KB\n",
      "None\n",
      "\n",
      "\n"
     ]
    }
   ],
   "source": [
    "# Check the columns and data types\n",
    "print(data_merged.info(), end='\\n\\n\\n')\n",
    "\n"
   ]
  },
  {
   "cell_type": "code",
   "execution_count": 6,
   "id": "e1e3a694",
   "metadata": {},
   "outputs": [
    {
     "name": "stdout",
     "output_type": "stream",
     "text": [
      "hire_date            0\n",
      "job_level            0\n",
      "job_function         0\n",
      "region               0\n",
      "age                  0\n",
      "gender               0\n",
      "perf_rating          0\n",
      "promo_decision    7666\n",
      "dtype: int64\n"
     ]
    }
   ],
   "source": [
    "# Check for any missing values\n",
    "print(data_merged.isnull().sum()) \n",
    "\n"
   ]
  },
  {
   "cell_type": "markdown",
   "id": "07f6bd2a",
   "metadata": {},
   "source": [
    "---\n",
    "\n",
    "# 2. Data Prep\n",
    "\n"
   ]
  },
  {
   "cell_type": "code",
   "execution_count": 7,
   "id": "4c088266",
   "metadata": {},
   "outputs": [],
   "source": [
    "data_proc = data_merged\n",
    "\n"
   ]
  },
  {
   "cell_type": "markdown",
   "id": "efe9f89d",
   "metadata": {},
   "source": [
    "    Some 2000 records are missing data in column `Perf_rating` and were excluded.\n",
    "    We continue with ~8000 records.\n",
    "    \n",
    "    "
   ]
  },
  {
   "cell_type": "code",
   "execution_count": 8,
   "id": "b169a7e0",
   "metadata": {},
   "outputs": [
    {
     "data": {
      "text/plain": [
       "(8012, 8)"
      ]
     },
     "execution_count": 8,
     "metadata": {},
     "output_type": "execute_result"
    }
   ],
   "source": [
    "# remove null data\n",
    "data_proc.dropna(subset=['perf_rating'], inplace=True)\n",
    "data_proc.shape\n",
    "\n"
   ]
  },
  {
   "cell_type": "code",
   "execution_count": 9,
   "id": "d401d450",
   "metadata": {},
   "outputs": [],
   "source": [
    "### Clean `Age`\n",
    "data_proc['age'] = np.round(data_proc['age'], 1)\n",
    "\n"
   ]
  },
  {
   "cell_type": "code",
   "execution_count": 10,
   "id": "faf445ea",
   "metadata": {},
   "outputs": [],
   "source": [
    "### Calc: `is_promo`: 1 = Ready, 0 = no value\n",
    "data_proc.loc[data_proc['promo_decision'].isna(), 'is_promo'] = 0\n",
    "data_proc.loc[~data_proc['promo_decision'].isna(), 'is_promo'] = 1\n",
    "data_proc['is_promo'] = data_proc['is_promo'].astype(int)\n",
    "data_proc.drop(columns='promo_decision', inplace=True)\n",
    "\n"
   ]
  },
  {
   "cell_type": "code",
   "execution_count": 11,
   "id": "da0c9e35",
   "metadata": {},
   "outputs": [],
   "source": [
    "### `Job`: separate `Role` and `Level`\n",
    "data_proc['job_role'] = data_proc['job_level'].str[0]\n",
    "data_proc['job_rank'] = data_proc['job_level'].str[1].astype(int)\n",
    "# data_proc[['job_level', 'job_role', 'job_rank']].head(2)\n",
    "\n"
   ]
  },
  {
   "cell_type": "code",
   "execution_count": 12,
   "id": "f2e746bb",
   "metadata": {},
   "outputs": [],
   "source": [
    "### Recode `gender` to `is_men` for statistics\n",
    "data_proc.loc[data_proc['gender']=='men', 'is_men'] = 1\n",
    "data_proc.loc[data_proc['gender']!='men', 'is_men'] = 0\n",
    "data_proc['is_men'] = data_proc['is_men'].astype(int)\n",
    "data_proc.drop(columns='gender', inplace=True)\n",
    "\n"
   ]
  },
  {
   "cell_type": "code",
   "execution_count": 13,
   "id": "d4639695",
   "metadata": {},
   "outputs": [],
   "source": [
    "### Recode `perf_rating` to perf_rank: only a rating, no text\n",
    "data_proc['perf_rank'] = data_proc['perf_rating'].str[0].astype(int)\n",
    "\n",
    "\n"
   ]
  },
  {
   "cell_type": "code",
   "execution_count": 14,
   "id": "af4b44f5",
   "metadata": {},
   "outputs": [
    {
     "name": "stdout",
     "output_type": "stream",
     "text": [
      "min: 3\n"
     ]
    }
   ],
   "source": [
    "### Exclude non-performers, i.e. perf_rank = 1 or 2\n",
    "data_proc.drop(data_proc[data_proc['perf_rank'].isin([1,2])].index, inplace=True)\n",
    "print(f'''min: {min(data_proc['perf_rank'])}''')\n",
    "\n"
   ]
  },
  {
   "cell_type": "code",
   "execution_count": 15,
   "id": "880ef8c6",
   "metadata": {},
   "outputs": [],
   "source": [
    "data_proc.drop(columns='perf_rating', inplace=True)\n",
    "\n"
   ]
  },
  {
   "cell_type": "code",
   "execution_count": 16,
   "id": "74221165",
   "metadata": {},
   "outputs": [
    {
     "name": "stdout",
     "output_type": "stream",
     "text": [
      "* hire_date: from 2019-08-24 to 2023-03-31\n"
     ]
    }
   ],
   "source": [
    "### Transform `hire_date` into `tenure` \n",
    "\n",
    "# Convert hire_date to datetime\n",
    "print(f'''* hire_date: from {str(min(data_proc['hire_date']))[:10]} to {str(max(data_proc['hire_date']))[:10]}''')\n",
    "data_proc['hire_date'] = pd.to_datetime(data_proc['hire_date'])\n",
    "\n",
    "# Calculate tenure: years at work\n",
    "data_proc['tenure'] = np.round((pd.to_datetime('2024-03-31') - data_proc['hire_date']).dt.days / 365.25, 1)\n",
    "\n"
   ]
  },
  {
   "cell_type": "code",
   "execution_count": 17,
   "id": "ca23e72d",
   "metadata": {},
   "outputs": [],
   "source": [
    "# Filter eligible employees for performance rating and promotion\n",
    "eligible_for_perf = data_proc[data_proc['hire_date'] <= '2023-03-31']\n",
    "eligible_for_promo = data_proc[data_proc['tenure'] >= 0.5]\n",
    "if 'hire_date' in data_proc.columns: data_proc.drop(columns='hire_date', inplace=True)\n",
    "\n"
   ]
  },
  {
   "cell_type": "markdown",
   "id": "0c8ed935",
   "metadata": {},
   "source": [
    "### QC before proceeding\n",
    "\n"
   ]
  },
  {
   "cell_type": "code",
   "execution_count": 18,
   "id": "9e4d9ded",
   "metadata": {},
   "outputs": [
    {
     "name": "stdout",
     "output_type": "stream",
     "text": [
      "job_level       0\n",
      "job_function    0\n",
      "region          0\n",
      "age             0\n",
      "is_promo        0\n",
      "job_role        0\n",
      "job_rank        0\n",
      "is_men          0\n",
      "perf_rank       0\n",
      "tenure          0\n",
      "dtype: int64\n",
      "duplicates removed: 21 records.\n",
      "job_level        object\n",
      "job_function     object\n",
      "region           object\n",
      "age             float64\n",
      "is_promo          int32\n",
      "job_role         object\n",
      "job_rank          int32\n",
      "is_men            int32\n",
      "perf_rank         int32\n",
      "tenure          float64\n",
      "dtype: object\n"
     ]
    }
   ],
   "source": [
    "# Drop rows with missing values in key columns, if any\n",
    "data_clean = data_proc.dropna(subset=['perf_rank', 'is_men', 'is_promo'])\n",
    "\n",
    "# Drop duplicates (if any)\n",
    "data_clean = data_clean.drop_duplicates()\n",
    "\n",
    "# Check the cleaned data\n",
    "print(data_clean.isnull().sum()) \n",
    "\n",
    "# Status: notify about number of removed duplicates\n",
    "print(f'duplicates removed: {data_proc.shape[0] - data_clean.shape[0]} records.')\n",
    "\n",
    "print(data_clean.dtypes)\n"
   ]
  },
  {
   "cell_type": "code",
   "execution_count": 19,
   "id": "332b53b5",
   "metadata": {},
   "outputs": [
    {
     "data": {
      "text/html": [
       "<div>\n",
       "<style scoped>\n",
       "    .dataframe tbody tr th:only-of-type {\n",
       "        vertical-align: middle;\n",
       "    }\n",
       "\n",
       "    .dataframe tbody tr th {\n",
       "        vertical-align: top;\n",
       "    }\n",
       "\n",
       "    .dataframe thead th {\n",
       "        text-align: right;\n",
       "    }\n",
       "</style>\n",
       "<table border=\"1\" class=\"dataframe\">\n",
       "  <thead>\n",
       "    <tr style=\"text-align: right;\">\n",
       "      <th></th>\n",
       "      <th>age</th>\n",
       "      <th>is_promo</th>\n",
       "      <th>job_rank</th>\n",
       "      <th>is_men</th>\n",
       "      <th>perf_rank</th>\n",
       "      <th>tenure</th>\n",
       "    </tr>\n",
       "  </thead>\n",
       "  <tbody>\n",
       "    <tr>\n",
       "      <th>count</th>\n",
       "      <td>4217.000000</td>\n",
       "      <td>4217.000000</td>\n",
       "      <td>4217.000000</td>\n",
       "      <td>4217.000000</td>\n",
       "      <td>4217.000000</td>\n",
       "      <td>4217.000000</td>\n",
       "    </tr>\n",
       "    <tr>\n",
       "      <th>mean</th>\n",
       "      <td>30.960920</td>\n",
       "      <td>0.082049</td>\n",
       "      <td>5.872658</td>\n",
       "      <td>0.552525</td>\n",
       "      <td>3.565805</td>\n",
       "      <td>2.400877</td>\n",
       "    </tr>\n",
       "    <tr>\n",
       "      <th>std</th>\n",
       "      <td>2.309543</td>\n",
       "      <td>0.274472</td>\n",
       "      <td>1.365283</td>\n",
       "      <td>0.497292</td>\n",
       "      <td>0.696288</td>\n",
       "      <td>0.865059</td>\n",
       "    </tr>\n",
       "    <tr>\n",
       "      <th>min</th>\n",
       "      <td>27.000000</td>\n",
       "      <td>0.000000</td>\n",
       "      <td>4.000000</td>\n",
       "      <td>0.000000</td>\n",
       "      <td>3.000000</td>\n",
       "      <td>1.000000</td>\n",
       "    </tr>\n",
       "    <tr>\n",
       "      <th>25%</th>\n",
       "      <td>29.000000</td>\n",
       "      <td>0.000000</td>\n",
       "      <td>5.000000</td>\n",
       "      <td>0.000000</td>\n",
       "      <td>3.000000</td>\n",
       "      <td>1.900000</td>\n",
       "    </tr>\n",
       "    <tr>\n",
       "      <th>50%</th>\n",
       "      <td>30.900000</td>\n",
       "      <td>0.000000</td>\n",
       "      <td>6.000000</td>\n",
       "      <td>1.000000</td>\n",
       "      <td>3.000000</td>\n",
       "      <td>2.100000</td>\n",
       "    </tr>\n",
       "    <tr>\n",
       "      <th>75%</th>\n",
       "      <td>33.000000</td>\n",
       "      <td>0.000000</td>\n",
       "      <td>7.000000</td>\n",
       "      <td>1.000000</td>\n",
       "      <td>4.000000</td>\n",
       "      <td>2.600000</td>\n",
       "    </tr>\n",
       "    <tr>\n",
       "      <th>max</th>\n",
       "      <td>35.000000</td>\n",
       "      <td>1.000000</td>\n",
       "      <td>9.000000</td>\n",
       "      <td>1.000000</td>\n",
       "      <td>5.000000</td>\n",
       "      <td>4.600000</td>\n",
       "    </tr>\n",
       "  </tbody>\n",
       "</table>\n",
       "</div>"
      ],
      "text/plain": [
       "               age     is_promo     job_rank       is_men    perf_rank  \\\n",
       "count  4217.000000  4217.000000  4217.000000  4217.000000  4217.000000   \n",
       "mean     30.960920     0.082049     5.872658     0.552525     3.565805   \n",
       "std       2.309543     0.274472     1.365283     0.497292     0.696288   \n",
       "min      27.000000     0.000000     4.000000     0.000000     3.000000   \n",
       "25%      29.000000     0.000000     5.000000     0.000000     3.000000   \n",
       "50%      30.900000     0.000000     6.000000     1.000000     3.000000   \n",
       "75%      33.000000     0.000000     7.000000     1.000000     4.000000   \n",
       "max      35.000000     1.000000     9.000000     1.000000     5.000000   \n",
       "\n",
       "            tenure  \n",
       "count  4217.000000  \n",
       "mean      2.400877  \n",
       "std       0.865059  \n",
       "min       1.000000  \n",
       "25%       1.900000  \n",
       "50%       2.100000  \n",
       "75%       2.600000  \n",
       "max       4.600000  "
      ]
     },
     "execution_count": 19,
     "metadata": {},
     "output_type": "execute_result"
    }
   ],
   "source": [
    "# statistics for numeric values\n",
    "data_clean.describe()\n",
    "\n"
   ]
  },
  {
   "cell_type": "markdown",
   "id": "705a973b",
   "metadata": {},
   "source": [
    "---\n",
    "\n",
    "# 3: Analysis\n",
    "\n",
    "    Let's analyze the performance ratings and promotion decisions by gender.\n",
    "\n"
   ]
  },
  {
   "cell_type": "raw",
   "id": "9133938e",
   "metadata": {},
   "source": [
    "data_clean[['perf_rank', 'is_men', 'is_promo']].head(4)\n",
    "\n"
   ]
  },
  {
   "cell_type": "code",
   "execution_count": 20,
   "id": "d456b9f9",
   "metadata": {},
   "outputs": [
    {
     "data": {
      "text/plain": [
       "job_role  is_men\n",
       "I         0         1330\n",
       "          1         1373\n",
       "T         0          557\n",
       "          1          957\n",
       "Name: is_promo, dtype: int64"
      ]
     },
     "execution_count": 20,
     "metadata": {},
     "output_type": "execute_result"
    }
   ],
   "source": [
    "# Performance ratings by gender\n",
    "data_clean.groupby(['job_role', 'is_men'])['is_promo'].count()\n",
    "# ALUR: no clear difference\n",
    "\n"
   ]
  },
  {
   "cell_type": "code",
   "execution_count": 21,
   "id": "c60de1d4",
   "metadata": {},
   "outputs": [
    {
     "data": {
      "text/plain": [
       "is_men\n",
       "0    3.550158\n",
       "1    3.578072\n",
       "Name: perf_rank, dtype: float64"
      ]
     },
     "execution_count": 21,
     "metadata": {},
     "output_type": "execute_result"
    }
   ],
   "source": [
    "# Performance ratings by gender\n",
    "perf_by_gender = eligible_for_perf.groupby('is_men')['perf_rank'].mean()\n",
    "perf_by_gender\n",
    "\n"
   ]
  },
  {
   "cell_type": "code",
   "execution_count": 22,
   "id": "2917f8e8",
   "metadata": {},
   "outputs": [
    {
     "data": {
      "text/html": [
       "<div>\n",
       "<style scoped>\n",
       "    .dataframe tbody tr th:only-of-type {\n",
       "        vertical-align: middle;\n",
       "    }\n",
       "\n",
       "    .dataframe tbody tr th {\n",
       "        vertical-align: top;\n",
       "    }\n",
       "\n",
       "    .dataframe thead th {\n",
       "        text-align: right;\n",
       "    }\n",
       "</style>\n",
       "<table border=\"1\" class=\"dataframe\">\n",
       "  <thead>\n",
       "    <tr style=\"text-align: right;\">\n",
       "      <th>is_promo</th>\n",
       "      <th>0</th>\n",
       "      <th>1</th>\n",
       "    </tr>\n",
       "    <tr>\n",
       "      <th>is_men</th>\n",
       "      <th></th>\n",
       "      <th></th>\n",
       "    </tr>\n",
       "  </thead>\n",
       "  <tbody>\n",
       "    <tr>\n",
       "      <th>0</th>\n",
       "      <td>0.916579</td>\n",
       "      <td>0.083421</td>\n",
       "    </tr>\n",
       "    <tr>\n",
       "      <th>1</th>\n",
       "      <td>0.919795</td>\n",
       "      <td>0.080205</td>\n",
       "    </tr>\n",
       "  </tbody>\n",
       "</table>\n",
       "</div>"
      ],
      "text/plain": [
       "is_promo         0         1\n",
       "is_men                      \n",
       "0         0.916579  0.083421\n",
       "1         0.919795  0.080205"
      ]
     },
     "execution_count": 22,
     "metadata": {},
     "output_type": "execute_result"
    }
   ],
   "source": [
    "# Promotion decisions by gender\n",
    "promo_by_gender = eligible_for_promo.groupby('is_men')['is_promo'].value_counts(normalize=True).unstack()\n",
    "promo_by_gender\n",
    "\n"
   ]
  },
  {
   "cell_type": "markdown",
   "id": "48591c0c",
   "metadata": {},
   "source": [
    "### Total Average Promotion Rate \n",
    "\n"
   ]
  },
  {
   "cell_type": "code",
   "execution_count": 23,
   "id": "b153db6b",
   "metadata": {},
   "outputs": [
    {
     "name": "stdout",
     "output_type": "stream",
     "text": [
      "Average Promotion Rate: 8.2%\n"
     ]
    }
   ],
   "source": [
    "avg__is_promo = data_clean.groupby('is_promo')['is_promo'].count() / data_clean['is_promo'].count()\n",
    "print(f'Average Promotion Rate: {np.round(avg__is_promo[1] * 100, 2)}%')\n",
    "\n"
   ]
  },
  {
   "cell_type": "markdown",
   "id": "a49456bc",
   "metadata": {},
   "source": [
    "    Question: what is the average by Role or Level?\n",
    "\n"
   ]
  },
  {
   "cell_type": "code",
   "execution_count": 24,
   "id": "b9e3207b",
   "metadata": {},
   "outputs": [
    {
     "data": {
      "text/plain": [
       "job_level\n",
       "I4    8.5\n",
       "I5    8.0\n",
       "I6    7.0\n",
       "I7    8.8\n",
       "T6    9.9\n",
       "T7    6.6\n",
       "T8    8.3\n",
       "T9    8.3\n",
       "Name: is_promo, dtype: float64"
      ]
     },
     "execution_count": 24,
     "metadata": {},
     "output_type": "execute_result"
    }
   ],
   "source": [
    "avg_promo__by__job_level = np.round(data_clean.groupby('job_level')['is_promo'].mean()*100, 1)\n",
    "avg_promo__by__job_level\n",
    "\n"
   ]
  },
  {
   "cell_type": "markdown",
   "id": "9114effa",
   "metadata": {},
   "source": [
    "    > ALUR: difference by job level.\n"
   ]
  },
  {
   "cell_type": "code",
   "execution_count": 25,
   "id": "3d3a768a",
   "metadata": {},
   "outputs": [
    {
     "name": "stdout",
     "output_type": "stream",
     "text": [
      "The difference by job level: from 6.6% up to 9.9%\n"
     ]
    }
   ],
   "source": [
    "print(f'The difference by job level: from {min(avg_promo__by__job_level)}% up to {max(avg_promo__by__job_level)}%')\n",
    "\n"
   ]
  },
  {
   "cell_type": "markdown",
   "id": "edebb273",
   "metadata": {},
   "source": [
    "---\n",
    "\n",
    "### Differences by `job_role`: not significant\n",
    "\n"
   ]
  },
  {
   "cell_type": "code",
   "execution_count": 26,
   "id": "be84379e",
   "metadata": {},
   "outputs": [
    {
     "name": "stdout",
     "output_type": "stream",
     "text": [
      "job_role\n",
      "I    8.1\n",
      "T    8.5\n",
      "Name: is_promo, dtype: float64\n"
     ]
    }
   ],
   "source": [
    "avg__is_promo__by__job_role = np.round(data_clean.groupby('job_role')['is_promo'].mean()*100, 1)\n",
    "print(avg__is_promo__by__job_role)\n",
    "\n"
   ]
  },
  {
   "cell_type": "markdown",
   "id": "d79a05f8",
   "metadata": {},
   "source": [
    "### Differences by `job_rank`: not significant\n",
    "\n"
   ]
  },
  {
   "cell_type": "code",
   "execution_count": 27,
   "id": "c9ba0afc",
   "metadata": {},
   "outputs": [
    {
     "data": {
      "text/plain": [
       "job_rank\n",
       "4    8.5\n",
       "5    8.0\n",
       "6    8.4\n",
       "7    7.7\n",
       "8    8.3\n",
       "9    8.3\n",
       "Name: is_promo, dtype: float64"
      ]
     },
     "execution_count": 27,
     "metadata": {},
     "output_type": "execute_result"
    }
   ],
   "source": [
    "np.round(data_clean.groupby('job_rank')['is_promo'].mean()*100, 1)\n",
    "\n"
   ]
  },
  {
   "cell_type": "markdown",
   "id": "1079fec3",
   "metadata": {},
   "source": [
    "## Plot results\n",
    "\n"
   ]
  },
  {
   "cell_type": "code",
   "execution_count": 28,
   "id": "cacf8230",
   "metadata": {},
   "outputs": [
    {
     "data": {
      "text/html": [
       "<div>\n",
       "<style scoped>\n",
       "    .dataframe tbody tr th:only-of-type {\n",
       "        vertical-align: middle;\n",
       "    }\n",
       "\n",
       "    .dataframe tbody tr th {\n",
       "        vertical-align: top;\n",
       "    }\n",
       "\n",
       "    .dataframe thead th {\n",
       "        text-align: right;\n",
       "    }\n",
       "</style>\n",
       "<table border=\"1\" class=\"dataframe\">\n",
       "  <thead>\n",
       "    <tr style=\"text-align: right;\">\n",
       "      <th></th>\n",
       "      <th>hire_date</th>\n",
       "      <th>job_level</th>\n",
       "      <th>job_function</th>\n",
       "      <th>region</th>\n",
       "      <th>age</th>\n",
       "      <th>is_promo</th>\n",
       "      <th>job_role</th>\n",
       "      <th>job_rank</th>\n",
       "      <th>is_men</th>\n",
       "      <th>perf_rank</th>\n",
       "      <th>tenure</th>\n",
       "    </tr>\n",
       "    <tr>\n",
       "      <th>employee_id</th>\n",
       "      <th></th>\n",
       "      <th></th>\n",
       "      <th></th>\n",
       "      <th></th>\n",
       "      <th></th>\n",
       "      <th></th>\n",
       "      <th></th>\n",
       "      <th></th>\n",
       "      <th></th>\n",
       "      <th></th>\n",
       "      <th></th>\n",
       "    </tr>\n",
       "  </thead>\n",
       "  <tbody>\n",
       "    <tr>\n",
       "      <th>1</th>\n",
       "      <td>2019-09-04</td>\n",
       "      <td>T7</td>\n",
       "      <td>G&amp;A</td>\n",
       "      <td>US2</td>\n",
       "      <td>28.7</td>\n",
       "      <td>0</td>\n",
       "      <td>T</td>\n",
       "      <td>7</td>\n",
       "      <td>0</td>\n",
       "      <td>3</td>\n",
       "      <td>4.6</td>\n",
       "    </tr>\n",
       "    <tr>\n",
       "      <th>2</th>\n",
       "      <td>2023-02-16</td>\n",
       "      <td>T7</td>\n",
       "      <td>Engineering</td>\n",
       "      <td>US1</td>\n",
       "      <td>33.6</td>\n",
       "      <td>0</td>\n",
       "      <td>T</td>\n",
       "      <td>7</td>\n",
       "      <td>1</td>\n",
       "      <td>3</td>\n",
       "      <td>1.1</td>\n",
       "    </tr>\n",
       "  </tbody>\n",
       "</table>\n",
       "</div>"
      ],
      "text/plain": [
       "             hire_date job_level job_function region   age  is_promo job_role  \\\n",
       "employee_id                                                                     \n",
       "1           2019-09-04        T7          G&A    US2  28.7         0        T   \n",
       "2           2023-02-16        T7  Engineering    US1  33.6         0        T   \n",
       "\n",
       "             job_rank  is_men  perf_rank  tenure  \n",
       "employee_id                                       \n",
       "1                   7       0          3     4.6  \n",
       "2                   7       1          3     1.1  "
      ]
     },
     "execution_count": 28,
     "metadata": {},
     "output_type": "execute_result"
    }
   ],
   "source": [
    "eligible_for_perf.head(2)"
   ]
  },
  {
   "cell_type": "code",
   "execution_count": 49,
   "id": "d330fd96",
   "metadata": {},
   "outputs": [
    {
     "data": {
      "image/png": "[encoded data removed]",
      "text/plain": [
       "<Figure size 500x300 with 1 Axes>"
      ]
     },
     "metadata": {},
     "output_type": "display_data"
    }
   ],
   "source": [
    "# Performance ratings boxplot\n",
    "plt.figure(figsize=(5, 3))\n",
    "sns.boxplot(x='perf_rank', y='is_men', data=eligible_for_perf)\n",
    "plt.title('Performance Ranks by Gender')\n",
    "plt.show()\n",
    "\n"
   ]
  },
  {
   "cell_type": "code",
   "execution_count": 30,
   "id": "281a2ece",
   "metadata": {},
   "outputs": [
    {
     "data": {
      "text/plain": [
       "<Figure size 1000x600 with 0 Axes>"
      ]
     },
     "metadata": {},
     "output_type": "display_data"
    },
    {
     "data": {
      "image/png": "[encoded data removed]",
      "text/plain": [
       "<Figure size 300x300 with 1 Axes>"
      ]
     },
     "metadata": {},
     "output_type": "display_data"
    }
   ],
   "source": [
    "# Promotion decision bar plot\n",
    "plt.figure(figsize=(10, 6))\n",
    "promo_by_gender.plot(kind='bar', stacked=True)\n",
    "plt.title('Promotion Decisions by Gender')\n",
    "plt.xlabel('Gender')\n",
    "plt.ylabel('Proportion')\n",
    "plt.legend(title='Promotion Decision')\n",
    "plt.show()\n",
    "\n"
   ]
  },
  {
   "cell_type": "markdown",
   "id": "104a43b4",
   "metadata": {},
   "source": [
    "# Boxplots"
   ]
  },
  {
   "cell_type": "code",
   "execution_count": 31,
   "id": "b5c5db92",
   "metadata": {},
   "outputs": [
    {
     "data": {
      "image/png": "[encoded data removed]",
      "text/plain": [
       "<Figure size 300x300 with 1 Axes>"
      ]
     },
     "metadata": {},
     "output_type": "display_data"
    }
   ],
   "source": [
    "sns.boxplot(x='job_function', y='is_men', hue='is_promo', data=data_clean)\n",
    "# sns.boxplot(x=['job_function', 'perf_rank'], y='is_promo', data=df)\n",
    "plt.xlabel('Group (x)')\n",
    "plt.ylabel('Value (y)')\n",
    "plt.title('Boxplot of Variable y Grouped by Variable x')\n",
    "plt.show()\n",
    "\n"
   ]
  },
  {
   "cell_type": "markdown",
   "id": "686549bd",
   "metadata": {},
   "source": [
    "## Promotion by Performance and Gender \n",
    "\n"
   ]
  },
  {
   "cell_type": "code",
   "execution_count": 32,
   "id": "6038f306",
   "metadata": {},
   "outputs": [
    {
     "name": "stdout",
     "output_type": "stream",
     "text": [
      "   perf_rank  is_promo    is_men\n",
      "0          3         0  0.542404\n",
      "1          3         1  0.550265\n",
      "2          4         0  0.564529\n",
      "3          4         1  0.556522\n",
      "4          5         0  0.573593\n",
      "5          5         1  0.476190\n"
     ]
    },
    {
     "data": {
      "image/png": "[encoded data removed]",
      "text/plain": [
       "<Figure size 800x500 with 1 Axes>"
      ]
     },
     "metadata": {},
     "output_type": "display_data"
    }
   ],
   "source": [
    "# calculate mean of `x` grouped by`y`:\n",
    "mean_by_groups = pd.DataFrame(data_clean.groupby(['perf_rank', 'is_promo'])['is_men'].mean().reset_index())\n",
    "#mean_by_groups = np.round(mean_by_groups, 2)\n",
    "print(f'{mean_by_groups}')\n",
    "\n",
    "\n",
    "\n",
    "plt.figure(figsize=(8,5))\n",
    "sns.barplot(data=mean_by_groups, x='perf_rank', y='is_men', hue='is_promo')\n",
    "plt.xlabel('perf_rank')\n",
    "plt.ylabel('Mean of `is_men`')\n",
    "plt.title('Mean of `is_men` by `perf_rank` and `is_promo`')\n",
    "plt.legend(title='is_promo')\n",
    "plt.show()\n",
    "\n"
   ]
  },
  {
   "cell_type": "code",
   "execution_count": 33,
   "id": "c9bc380a",
   "metadata": {},
   "outputs": [
    {
     "name": "stdout",
     "output_type": "stream",
     "text": [
      "1    2330\n",
      "0    1887\n",
      "Name: is_men, dtype: int64\n",
      "         count      mean       std  min  25%  50%  75%  max\n",
      "is_men                                                     \n",
      "0       1887.0  3.550609  0.692681  3.0  3.0  3.0  4.0  5.0\n",
      "1       2330.0  3.578112  0.699102  3.0  3.0  3.0  4.0  5.0\n"
     ]
    }
   ],
   "source": [
    "print(data_clean['is_men'].value_counts())\n",
    "print(data_clean.groupby('is_men')['perf_rank'].describe())\n",
    "\n"
   ]
  },
  {
   "cell_type": "markdown",
   "id": "d5f433bd",
   "metadata": {},
   "source": [
    "## Some charts"
   ]
  },
  {
   "cell_type": "code",
   "execution_count": 34,
   "id": "0ec79af9",
   "metadata": {},
   "outputs": [
    {
     "data": {
      "image/png": "[encoded data removed]",
      "text/plain": [
       "<Figure size 300x300 with 1 Axes>"
      ]
     },
     "metadata": {},
     "output_type": "display_data"
    }
   ],
   "source": [
    "sns.countplot(data=data_clean, x='is_men')\n",
    "plt.title('Gender Distribution')\n",
    "plt.show()\n",
    "\n"
   ]
  },
  {
   "cell_type": "code",
   "execution_count": 35,
   "id": "93bbd68c",
   "metadata": {},
   "outputs": [
    {
     "data": {
      "image/png": "[encoded data removed]",
      "text/plain": [
       "<Figure size 300x300 with 1 Axes>"
      ]
     },
     "metadata": {},
     "output_type": "display_data"
    }
   ],
   "source": [
    "sns.barplot(data=data_clean, x='perf_rank', y='is_men')\n",
    "plt.title('Performance Rank by Gender')\n",
    "plt.show()\n",
    "\n"
   ]
  },
  {
   "cell_type": "markdown",
   "id": "cb521afa",
   "metadata": {},
   "source": [
    "## Analyze Promotion Rate by Gender: Calculate the promotion rate for each gender\n",
    "\n"
   ]
  },
  {
   "cell_type": "code",
   "execution_count": 36,
   "id": "08eb832d",
   "metadata": {},
   "outputs": [
    {
     "name": "stdout",
     "output_type": "stream",
     "text": [
      "   is_men  is_promo\n",
      "0       0  0.083731\n",
      "1       1  0.080687\n"
     ]
    },
    {
     "data": {
      "image/png": "[encoded data removed]",
      "text/plain": [
       "<Figure size 300x300 with 1 Axes>"
      ]
     },
     "metadata": {},
     "output_type": "display_data"
    }
   ],
   "source": [
    "promotion_rate = data_clean.groupby('is_men')['is_promo'].mean().reset_index()\n",
    "print(promotion_rate)\n",
    "\n",
    "sns.barplot(data=promotion_rate, x='is_men', y='is_promo')\n",
    "plt.title('Promotion Rate by Gender')\n",
    "plt.show()\n",
    "\n"
   ]
  },
  {
   "cell_type": "markdown",
   "id": "b44982d7",
   "metadata": {},
   "source": [
    "## Cross-tabulation for Detailed Analysis:\n",
    "\n",
    "    We use cross-tabulation to analyze the relationship between gender and other categorical variables like region, job group, and job level.\n",
    "\n"
   ]
  },
  {
   "cell_type": "code",
   "execution_count": 37,
   "id": "a49fdac5",
   "metadata": {},
   "outputs": [
    {
     "data": {
      "text/html": [
       "<div>\n",
       "<style scoped>\n",
       "    .dataframe tbody tr th:only-of-type {\n",
       "        vertical-align: middle;\n",
       "    }\n",
       "\n",
       "    .dataframe tbody tr th {\n",
       "        vertical-align: top;\n",
       "    }\n",
       "\n",
       "    .dataframe thead th {\n",
       "        text-align: right;\n",
       "    }\n",
       "</style>\n",
       "<table border=\"1\" class=\"dataframe\">\n",
       "  <thead>\n",
       "    <tr style=\"text-align: right;\">\n",
       "      <th>region</th>\n",
       "      <th>US1</th>\n",
       "      <th>US2</th>\n",
       "      <th>US3</th>\n",
       "      <th>US4</th>\n",
       "    </tr>\n",
       "    <tr>\n",
       "      <th>is_men</th>\n",
       "      <th></th>\n",
       "      <th></th>\n",
       "      <th></th>\n",
       "      <th></th>\n",
       "    </tr>\n",
       "  </thead>\n",
       "  <tbody>\n",
       "    <tr>\n",
       "      <th>0</th>\n",
       "      <td>778</td>\n",
       "      <td>538</td>\n",
       "      <td>394</td>\n",
       "      <td>177</td>\n",
       "    </tr>\n",
       "    <tr>\n",
       "      <th>1</th>\n",
       "      <td>915</td>\n",
       "      <td>699</td>\n",
       "      <td>496</td>\n",
       "      <td>220</td>\n",
       "    </tr>\n",
       "  </tbody>\n",
       "</table>\n",
       "</div>"
      ],
      "text/plain": [
       "region  US1  US2  US3  US4\n",
       "is_men                    \n",
       "0       778  538  394  177\n",
       "1       915  699  496  220"
      ]
     },
     "execution_count": 37,
     "metadata": {},
     "output_type": "execute_result"
    }
   ],
   "source": [
    "pd.crosstab(data_clean['is_men'], data_clean['region'])\n",
    "\n"
   ]
  },
  {
   "cell_type": "code",
   "execution_count": 38,
   "id": "5bdb1911",
   "metadata": {},
   "outputs": [
    {
     "data": {
      "text/html": [
       "<div>\n",
       "<style scoped>\n",
       "    .dataframe tbody tr th:only-of-type {\n",
       "        vertical-align: middle;\n",
       "    }\n",
       "\n",
       "    .dataframe tbody tr th {\n",
       "        vertical-align: top;\n",
       "    }\n",
       "\n",
       "    .dataframe thead th {\n",
       "        text-align: right;\n",
       "    }\n",
       "</style>\n",
       "<table border=\"1\" class=\"dataframe\">\n",
       "  <thead>\n",
       "    <tr style=\"text-align: right;\">\n",
       "      <th>job_role</th>\n",
       "      <th>I</th>\n",
       "      <th>T</th>\n",
       "    </tr>\n",
       "    <tr>\n",
       "      <th>is_men</th>\n",
       "      <th></th>\n",
       "      <th></th>\n",
       "    </tr>\n",
       "  </thead>\n",
       "  <tbody>\n",
       "    <tr>\n",
       "      <th>0</th>\n",
       "      <td>1330</td>\n",
       "      <td>557</td>\n",
       "    </tr>\n",
       "    <tr>\n",
       "      <th>1</th>\n",
       "      <td>1373</td>\n",
       "      <td>957</td>\n",
       "    </tr>\n",
       "  </tbody>\n",
       "</table>\n",
       "</div>"
      ],
      "text/plain": [
       "job_role     I    T\n",
       "is_men             \n",
       "0         1330  557\n",
       "1         1373  957"
      ]
     },
     "execution_count": 38,
     "metadata": {},
     "output_type": "execute_result"
    }
   ],
   "source": [
    "pd.crosstab(data_clean['is_men'], data_clean['job_role'])\n",
    "\n"
   ]
  },
  {
   "cell_type": "code",
   "execution_count": 39,
   "id": "0ece3a58",
   "metadata": {},
   "outputs": [
    {
     "data": {
      "text/html": [
       "<div>\n",
       "<style scoped>\n",
       "    .dataframe tbody tr th:only-of-type {\n",
       "        vertical-align: middle;\n",
       "    }\n",
       "\n",
       "    .dataframe tbody tr th {\n",
       "        vertical-align: top;\n",
       "    }\n",
       "\n",
       "    .dataframe thead th {\n",
       "        text-align: right;\n",
       "    }\n",
       "</style>\n",
       "<table border=\"1\" class=\"dataframe\">\n",
       "  <thead>\n",
       "    <tr style=\"text-align: right;\">\n",
       "      <th>job_rank</th>\n",
       "      <th>4</th>\n",
       "      <th>5</th>\n",
       "      <th>6</th>\n",
       "      <th>7</th>\n",
       "      <th>8</th>\n",
       "      <th>9</th>\n",
       "    </tr>\n",
       "    <tr>\n",
       "      <th>is_men</th>\n",
       "      <th></th>\n",
       "      <th></th>\n",
       "      <th></th>\n",
       "      <th></th>\n",
       "      <th></th>\n",
       "      <th></th>\n",
       "    </tr>\n",
       "  </thead>\n",
       "  <tbody>\n",
       "    <tr>\n",
       "      <th>0</th>\n",
       "      <td>466</td>\n",
       "      <td>369</td>\n",
       "      <td>526</td>\n",
       "      <td>376</td>\n",
       "      <td>108</td>\n",
       "      <td>42</td>\n",
       "    </tr>\n",
       "    <tr>\n",
       "      <th>1</th>\n",
       "      <td>441</td>\n",
       "      <td>356</td>\n",
       "      <td>698</td>\n",
       "      <td>489</td>\n",
       "      <td>243</td>\n",
       "      <td>103</td>\n",
       "    </tr>\n",
       "  </tbody>\n",
       "</table>\n",
       "</div>"
      ],
      "text/plain": [
       "job_rank    4    5    6    7    8    9\n",
       "is_men                                \n",
       "0         466  369  526  376  108   42\n",
       "1         441  356  698  489  243  103"
      ]
     },
     "execution_count": 39,
     "metadata": {},
     "output_type": "execute_result"
    }
   ],
   "source": [
    "pd.crosstab(data_clean['is_men'], data_clean['job_rank'])\n",
    "\n"
   ]
  },
  {
   "cell_type": "markdown",
   "id": "ee642441",
   "metadata": {},
   "source": [
    "## Advanced Visualization:\n",
    "\n",
    "Create more complex visualizations, such as comparing performance rank and promotion rates across multiple variables.\n",
    "\n"
   ]
  },
  {
   "cell_type": "code",
   "execution_count": 40,
   "id": "25ed5f13",
   "metadata": {},
   "outputs": [
    {
     "data": {
      "text/html": [
       "<div>\n",
       "<style scoped>\n",
       "    .dataframe tbody tr th:only-of-type {\n",
       "        vertical-align: middle;\n",
       "    }\n",
       "\n",
       "    .dataframe tbody tr th {\n",
       "        vertical-align: top;\n",
       "    }\n",
       "\n",
       "    .dataframe thead th {\n",
       "        text-align: right;\n",
       "    }\n",
       "</style>\n",
       "<table border=\"1\" class=\"dataframe\">\n",
       "  <thead>\n",
       "    <tr style=\"text-align: right;\">\n",
       "      <th></th>\n",
       "      <th>age</th>\n",
       "      <th>is_promo</th>\n",
       "      <th>job_rank</th>\n",
       "      <th>is_men</th>\n",
       "      <th>perf_rank</th>\n",
       "      <th>tenure</th>\n",
       "    </tr>\n",
       "  </thead>\n",
       "  <tbody>\n",
       "    <tr>\n",
       "      <th>count</th>\n",
       "      <td>4217.000000</td>\n",
       "      <td>4217.000000</td>\n",
       "      <td>4217.000000</td>\n",
       "      <td>4217.000000</td>\n",
       "      <td>4217.000000</td>\n",
       "      <td>4217.000000</td>\n",
       "    </tr>\n",
       "    <tr>\n",
       "      <th>mean</th>\n",
       "      <td>30.960920</td>\n",
       "      <td>0.082049</td>\n",
       "      <td>5.872658</td>\n",
       "      <td>0.552525</td>\n",
       "      <td>3.565805</td>\n",
       "      <td>2.400877</td>\n",
       "    </tr>\n",
       "    <tr>\n",
       "      <th>std</th>\n",
       "      <td>2.309543</td>\n",
       "      <td>0.274472</td>\n",
       "      <td>1.365283</td>\n",
       "      <td>0.497292</td>\n",
       "      <td>0.696288</td>\n",
       "      <td>0.865059</td>\n",
       "    </tr>\n",
       "    <tr>\n",
       "      <th>min</th>\n",
       "      <td>27.000000</td>\n",
       "      <td>0.000000</td>\n",
       "      <td>4.000000</td>\n",
       "      <td>0.000000</td>\n",
       "      <td>3.000000</td>\n",
       "      <td>1.000000</td>\n",
       "    </tr>\n",
       "    <tr>\n",
       "      <th>25%</th>\n",
       "      <td>29.000000</td>\n",
       "      <td>0.000000</td>\n",
       "      <td>5.000000</td>\n",
       "      <td>0.000000</td>\n",
       "      <td>3.000000</td>\n",
       "      <td>1.900000</td>\n",
       "    </tr>\n",
       "    <tr>\n",
       "      <th>50%</th>\n",
       "      <td>30.900000</td>\n",
       "      <td>0.000000</td>\n",
       "      <td>6.000000</td>\n",
       "      <td>1.000000</td>\n",
       "      <td>3.000000</td>\n",
       "      <td>2.100000</td>\n",
       "    </tr>\n",
       "    <tr>\n",
       "      <th>75%</th>\n",
       "      <td>33.000000</td>\n",
       "      <td>0.000000</td>\n",
       "      <td>7.000000</td>\n",
       "      <td>1.000000</td>\n",
       "      <td>4.000000</td>\n",
       "      <td>2.600000</td>\n",
       "    </tr>\n",
       "    <tr>\n",
       "      <th>max</th>\n",
       "      <td>35.000000</td>\n",
       "      <td>1.000000</td>\n",
       "      <td>9.000000</td>\n",
       "      <td>1.000000</td>\n",
       "      <td>5.000000</td>\n",
       "      <td>4.600000</td>\n",
       "    </tr>\n",
       "  </tbody>\n",
       "</table>\n",
       "</div>"
      ],
      "text/plain": [
       "               age     is_promo     job_rank       is_men    perf_rank  \\\n",
       "count  4217.000000  4217.000000  4217.000000  4217.000000  4217.000000   \n",
       "mean     30.960920     0.082049     5.872658     0.552525     3.565805   \n",
       "std       2.309543     0.274472     1.365283     0.497292     0.696288   \n",
       "min      27.000000     0.000000     4.000000     0.000000     3.000000   \n",
       "25%      29.000000     0.000000     5.000000     0.000000     3.000000   \n",
       "50%      30.900000     0.000000     6.000000     1.000000     3.000000   \n",
       "75%      33.000000     0.000000     7.000000     1.000000     4.000000   \n",
       "max      35.000000     1.000000     9.000000     1.000000     5.000000   \n",
       "\n",
       "            tenure  \n",
       "count  4217.000000  \n",
       "mean      2.400877  \n",
       "std       0.865059  \n",
       "min       1.000000  \n",
       "25%       1.900000  \n",
       "50%       2.100000  \n",
       "75%       2.600000  \n",
       "max       4.600000  "
      ]
     },
     "execution_count": 40,
     "metadata": {},
     "output_type": "execute_result"
    }
   ],
   "source": [
    "data_clean.describe()\n",
    "\n"
   ]
  },
  {
   "cell_type": "code",
   "execution_count": 41,
   "id": "9673ff21",
   "metadata": {},
   "outputs": [
    {
     "data": {
      "image/png": "[encoded data removed]",
      "text/plain": [
       "<Figure size 565.972x500 with 1 Axes>"
      ]
     },
     "metadata": {},
     "output_type": "display_data"
    }
   ],
   "source": [
    "sns.catplot(data=data_clean, x='perf_rank', y='job_rank', hue='is_men', kind='box')\n",
    "plt.title('Performance Rank by Job Level and Gender')\n",
    "plt.show()\n",
    "\n"
   ]
  },
  {
   "cell_type": "code",
   "execution_count": 42,
   "id": "4fef2624",
   "metadata": {
    "scrolled": true
   },
   "outputs": [
    {
     "data": {
      "image/png": "[encoded data removed]",
      "text/plain": [
       "<Figure size 565.972x500 with 1 Axes>"
      ]
     },
     "metadata": {},
     "output_type": "display_data"
    }
   ],
   "source": [
    "sns.catplot(data=data_clean, x='job_function', y='is_promo', hue='is_men', kind='bar')\n",
    "plt.title('Promotion Rate by Job Function and Gender')\n",
    "plt.show()\n",
    "\n"
   ]
  },
  {
   "cell_type": "code",
   "execution_count": 43,
   "id": "86d65a56",
   "metadata": {
    "scrolled": false
   },
   "outputs": [
    {
     "data": {
      "image/png": "[encoded data removed]",
      "text/plain": [
       "<Figure size 565.972x500 with 1 Axes>"
      ]
     },
     "metadata": {},
     "output_type": "display_data"
    }
   ],
   "source": [
    "sns.catplot(data=data_clean, x='job_level', y='is_promo', hue='is_men', kind='bar')\n",
    "plt.title('Promotion Rate by Job Level and Gender')\n",
    "plt.show()\n",
    "\n"
   ]
  },
  {
   "cell_type": "code",
   "execution_count": 44,
   "id": "45b54177",
   "metadata": {},
   "outputs": [
    {
     "data": {
      "image/png": "[encoded data removed]",
      "text/plain": [
       "<Figure size 565.972x500 with 1 Axes>"
      ]
     },
     "metadata": {},
     "output_type": "display_data"
    }
   ],
   "source": [
    "sns.catplot(data=data_clean, x='region', y='is_promo', hue='is_men', kind='bar')\n",
    "plt.title('Promotion Rate by Job Function and Gender')\n",
    "plt.show()\n",
    "\n"
   ]
  },
  {
   "cell_type": "code",
   "execution_count": 45,
   "id": "cfd4da38",
   "metadata": {},
   "outputs": [
    {
     "data": {
      "image/png": "[encoded data removed]",
      "text/plain": [
       "<Figure size 571.472x500 with 1 Axes>"
      ]
     },
     "metadata": {},
     "output_type": "display_data"
    }
   ],
   "source": [
    "sns.catplot(data=data_clean, x='is_promo', y='is_men', hue='job_role', kind='bar')\n",
    "plt.title('Promotion Rate by Job Group and Gender')\n",
    "plt.show()\n",
    "\n"
   ]
  },
  {
   "cell_type": "markdown",
   "id": "01f14772",
   "metadata": {},
   "source": [
    "# Data Insights:\n",
    "\n",
    "    After data analysis, we have a clearer picture of possible gender gaps in performance, promotions, and other job-related metrics.\n",
    "\n",
    "    We can further refine the analysis based on specific findings or delve deeper into areas showing disparities.\n",
    "\n"
   ]
  },
  {
   "cell_type": "markdown",
   "id": "4e551375",
   "metadata": {},
   "source": [
    "# 4. Statistical Testing:\n",
    "\n",
    "Now, let’s run a t-test to check if there’s a significant difference in performance scores based on gender.\n",
    "We’ll also check promotion rates.\n",
    "\n"
   ]
  },
  {
   "cell_type": "code",
   "execution_count": 46,
   "id": "59833661",
   "metadata": {},
   "outputs": [
    {
     "data": {
      "text/html": [
       "<div>\n",
       "<style scoped>\n",
       "    .dataframe tbody tr th:only-of-type {\n",
       "        vertical-align: middle;\n",
       "    }\n",
       "\n",
       "    .dataframe tbody tr th {\n",
       "        vertical-align: top;\n",
       "    }\n",
       "\n",
       "    .dataframe thead th {\n",
       "        text-align: right;\n",
       "    }\n",
       "</style>\n",
       "<table border=\"1\" class=\"dataframe\">\n",
       "  <thead>\n",
       "    <tr style=\"text-align: right;\">\n",
       "      <th></th>\n",
       "      <th>job_level</th>\n",
       "      <th>job_function</th>\n",
       "      <th>region</th>\n",
       "      <th>age</th>\n",
       "      <th>is_promo</th>\n",
       "      <th>job_role</th>\n",
       "      <th>job_rank</th>\n",
       "      <th>is_men</th>\n",
       "      <th>perf_rank</th>\n",
       "      <th>tenure</th>\n",
       "    </tr>\n",
       "    <tr>\n",
       "      <th>employee_id</th>\n",
       "      <th></th>\n",
       "      <th></th>\n",
       "      <th></th>\n",
       "      <th></th>\n",
       "      <th></th>\n",
       "      <th></th>\n",
       "      <th></th>\n",
       "      <th></th>\n",
       "      <th></th>\n",
       "      <th></th>\n",
       "    </tr>\n",
       "  </thead>\n",
       "  <tbody>\n",
       "    <tr>\n",
       "      <th>1</th>\n",
       "      <td>T7</td>\n",
       "      <td>G&amp;A</td>\n",
       "      <td>US2</td>\n",
       "      <td>28.7</td>\n",
       "      <td>0</td>\n",
       "      <td>T</td>\n",
       "      <td>7</td>\n",
       "      <td>0</td>\n",
       "      <td>3</td>\n",
       "      <td>4.6</td>\n",
       "    </tr>\n",
       "    <tr>\n",
       "      <th>2</th>\n",
       "      <td>T7</td>\n",
       "      <td>Engineering</td>\n",
       "      <td>US1</td>\n",
       "      <td>33.6</td>\n",
       "      <td>0</td>\n",
       "      <td>T</td>\n",
       "      <td>7</td>\n",
       "      <td>1</td>\n",
       "      <td>3</td>\n",
       "      <td>1.1</td>\n",
       "    </tr>\n",
       "  </tbody>\n",
       "</table>\n",
       "</div>"
      ],
      "text/plain": [
       "            job_level job_function region   age  is_promo job_role  job_rank  \\\n",
       "employee_id                                                                    \n",
       "1                  T7          G&A    US2  28.7         0        T         7   \n",
       "2                  T7  Engineering    US1  33.6         0        T         7   \n",
       "\n",
       "             is_men  perf_rank  tenure  \n",
       "employee_id                             \n",
       "1                 0          3     4.6  \n",
       "2                 1          3     1.1  "
      ]
     },
     "execution_count": 46,
     "metadata": {},
     "output_type": "execute_result"
    }
   ],
   "source": [
    "data_clean.head(2)\n",
    "\n"
   ]
  },
  {
   "cell_type": "code",
   "execution_count": 47,
   "id": "b1485308",
   "metadata": {},
   "outputs": [
    {
     "name": "stdout",
     "output_type": "stream",
     "text": [
      "\n",
      "T-test for performance scores by gender:\n",
      "T-statistic: 1.275, p-value: 0.202\n",
      "No significant difference in performance scores by gender.\n"
     ]
    }
   ],
   "source": [
    "from scipy import stats\n",
    "\n",
    "# Separate performance scores by gender\n",
    "male_performance = data_clean[data_clean['is_men'] == 1]['perf_rank']\n",
    "female_performance = data_clean[data_clean['is_men'] == 0]['perf_rank']\n",
    "\n",
    "# Perform a t-test for performance scores by gender \n",
    "t_stat_performance, p_val_performance = stats.ttest_ind(male_performance, female_performance)\n",
    "print(\"\\nT-test for performance scores by gender:\")\n",
    "print(f\"T-statistic: {np.round(t_stat_performance, 3)}, p-value: {np.round(p_val_performance, 3)}\")\n",
    "\n",
    "# Check if the p-value is less than 0.05 for significance\n",
    "if p_val_performance < 0.05: print(\"There is a significant difference in performance scores by gender.\")\n",
    "else: print(\"No significant difference in performance scores by gender.\")\n",
    "\n"
   ]
  },
  {
   "cell_type": "code",
   "execution_count": 48,
   "id": "1bfc5e2a",
   "metadata": {},
   "outputs": [
    {
     "name": "stdout",
     "output_type": "stream",
     "text": [
      "\n",
      "Chi-Square test for promotion rates by gender:\n",
      "Chi2 statistic: 0.091, p-value: 0.763\n",
      "No significant difference in promotion rates by gender.\n"
     ]
    }
   ],
   "source": [
    "# Check promotion rates by gender using a Chi-Square test \n",
    "promotion_male = data_clean[data_clean['is_men'] == 1]['is_promo'].value_counts()\n",
    "promotion_female = data_clean[data_clean['is_men'] == 0]['is_promo'].value_counts()\n",
    "\n",
    "# Perform a Chi-Square test for promotion rates\n",
    "chi2_stat, p_val_promotion, dof, expected = stats.chi2_contingency([promotion_male, promotion_female])\n",
    "print(\"\\nChi-Square test for promotion rates by gender:\") \n",
    "print(f\"Chi2 statistic: {np.round(chi2_stat, 3)}, p-value: {np.round(p_val_promotion, 3)}\") \n",
    "# Check if the p-value is less than 0.05 for significance\n",
    "if p_val_promotion < 0.05: print(\"There is a significant difference in promotion rates by gender.\")\n",
    "else: print(\"No significant difference in promotion rates by gender.\") \n",
    "\n"
   ]
  },
  {
   "cell_type": "markdown",
   "id": "4fe22bfd",
   "metadata": {},
   "source": [
    "---\n",
    "\n",
    "# 6. Actionable Insights & Recommendations:\n",
    "\n",
    "    * The data does not show inequalities in performance and promotion about gender.\n",
    "\n",
    "    * Propose solutions based on your findings: \n",
    "        * If there is a gap in promotions despite equal performance, suggest a more transparent promotion process.\n",
    "        * If there's bias in performance reviews, recommend bias training for managers.\n",
    "        * If there’s a lag in time to promotion for one gender, suggest a more equitable pathway for career advancement, with clear timelines and expectations for both genders.\n",
    "\n"
   ]
  },
  {
   "cell_type": "markdown",
   "id": "92a857e8",
   "metadata": {},
   "source": [
    "---\n",
    "\n",
    "# 7. Final Thoughts for the Assignment:\n",
    "\n",
    "\n",
    "    * Be Transparent:\n",
    "        If there are gaps in the data or areas where you couldn't make a solid conclusion, be honest about it.\n",
    "        Transparency will always be appreciated.\n",
    "\n",
    "    * Communicate Clearly:\n",
    "        When you present your findings, make sure to keep it simple and focused.\n",
    "        They want to know the key issues and what to do about them.\n",
    "\n",
    "    * Contextualize Your Findings:\n",
    "        If relevant, refer to external studies or best practices to back up your recommendations, showing that you’re not just talking numbers but also understanding the broader picture of workplace gender equity.\n",
    "\n"
   ]
  },
  {
   "cell_type": "markdown",
   "id": "d07f2e59",
   "metadata": {},
   "source": [
    "# Next Steps:\n",
    "\n",
    "    * Use these insights to make recommendations for addressing any gender inequalities you find.\n",
    "\n",
    "    * If any biases or disparities were found, we could consider introducing more transparent criteria for performance evaluations, or promoting unconscious bias training.\n",
    "\n"
   ]
  },
  {
   "cell_type": "markdown",
   "id": "1c566648",
   "metadata": {},
   "source": [
    "# Conclusion:\n",
    "\n",
    "    With these steps, we have an in-depth, data-driven approach to assess gender inequalities in our dataset.\n",
    "\n",
    "    We did not find significant differences in performance, promotions, or time to promotion, which leaves little room to recommend ways to make the workplace even more equitable for everyone.\n",
    "\n"
   ]
  }
 ],
 "metadata": {
  "kernelspec": {
   "display_name": "Python 3 (ipykernel)",
   "language": "python",
   "name": "python3"
  },
  "language_info": {
   "codemirror_mode": {
    "name": "ipython",
    "version": 3
   },
   "file_extension": ".py",
   "mimetype": "text/x-python",
   "name": "python",
   "nbconvert_exporter": "python",
   "pygments_lexer": "ipython3",
   "version": "3.7.9"
  }
 },
 "nbformat": 4,
 "nbformat_minor": 5
}
