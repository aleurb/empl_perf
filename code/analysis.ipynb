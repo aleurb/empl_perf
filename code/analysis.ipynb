{
 "cells": [
  {
   "cell_type": "markdown",
   "id": "f778f012",
   "metadata": {},
   "source": [
    "# Employee performance analysis with `Python`\n",
    "\n",
    "```\n",
    "@author: Aleksandras Urbonas\n",
    "@date  : 20241212 ALUR\n",
    "@email : aleksandras . urbonas (.) gmail . com\n",
    "```\n"
   ]
  },
  {
   "cell_type": "markdown",
   "id": "509bfdd4",
   "metadata": {},
   "source": [
    "---\n",
    "\n",
    "# 0. Config\n",
    "\n"
   ]
  },
  {
   "cell_type": "code",
   "execution_count": null,
   "id": "c20b14c1",
   "metadata": {},
   "outputs": [],
   "source": [
    "import pandas as pd\n",
    "import numpy as np\n",
    "import seaborn as sns\n",
    "import matplotlib.pyplot as plt\n",
    "\n",
    "# set chart size\n",
    "sns.set_theme(rc={'figure.figsize':(3,3)})\n",
    "\n"
   ]
  },
  {
   "cell_type": "markdown",
   "id": "8a165f09",
   "metadata": {},
   "source": [
    "---\n",
    "\n",
    "# 1. Import data\n",
    "\n"
   ]
  },
  {
   "cell_type": "code",
   "execution_count": null,
   "id": "ee1cc5d6",
   "metadata": {},
   "outputs": [],
   "source": [
    "raw_data_file_path = '../data/00_original/moondash_data.xlsx'\n",
    "\n",
    "# Load the data\n",
    "employee_data = pd.read_excel(raw_data_file_path, sheet_name='Employee Roster')\n",
    "outcome_data = pd.read_excel(raw_data_file_path, sheet_name='Mid-Year Outcomes')\n",
    "\n"
   ]
  },
  {
   "cell_type": "code",
   "execution_count": null,
   "id": "7c284f21",
   "metadata": {},
   "outputs": [],
   "source": [
    "# Merge the data on employee_id\n",
    "data_merged = pd.merge(employee_data, outcome_data, on='employee_id')\n",
    "data_merged.set_index('employee_id', inplace=True)\n",
    "# data.head(2)\n",
    "\n"
   ]
  },
  {
   "cell_type": "code",
   "execution_count": null,
   "id": "d360a046",
   "metadata": {},
   "outputs": [],
   "source": [
    "# Display the first few rows to understand the structure\n",
    "data_merged.head(2)\n",
    "\n"
   ]
  },
  {
   "cell_type": "code",
   "execution_count": null,
   "id": "848df31d",
   "metadata": {},
   "outputs": [],
   "source": [
    "# Check the columns and data types\n",
    "print(data_merged.info(), end='\\n\\n\\n')\n",
    "\n"
   ]
  },
  {
   "cell_type": "code",
   "execution_count": null,
   "id": "e1e3a694",
   "metadata": {},
   "outputs": [],
   "source": [
    "# Check for any missing values\n",
    "print(data_merged.isnull().sum()) \n",
    "\n"
   ]
  },
  {
   "cell_type": "markdown",
   "id": "07f6bd2a",
   "metadata": {},
   "source": [
    "---\n",
    "\n",
    "# 2. Data Prep\n",
    "\n"
   ]
  },
  {
   "cell_type": "code",
   "execution_count": null,
   "id": "4c088266",
   "metadata": {},
   "outputs": [],
   "source": [
    "data_proc = data_merged\n",
    "\n"
   ]
  },
  {
   "cell_type": "markdown",
   "id": "efe9f89d",
   "metadata": {},
   "source": [
    "    Some 2000 records are missing data in column `Perf_rating` and were excluded.\n",
    "    We continue with ~8000 records.\n",
    "    \n",
    "    "
   ]
  },
  {
   "cell_type": "code",
   "execution_count": null,
   "id": "b169a7e0",
   "metadata": {},
   "outputs": [],
   "source": [
    "# remove null data\n",
    "data_proc.dropna(subset=['perf_rating'], inplace=True)\n",
    "data_proc.shape\n",
    "\n"
   ]
  },
  {
   "cell_type": "code",
   "execution_count": null,
   "id": "d401d450",
   "metadata": {},
   "outputs": [],
   "source": [
    "### Clean `Age`\n",
    "data_proc['age'] = np.round(data_proc['age'], 1)\n",
    "\n"
   ]
  },
  {
   "cell_type": "code",
   "execution_count": null,
   "id": "faf445ea",
   "metadata": {},
   "outputs": [],
   "source": [
    "### Calc: `is_promo`: 1 = Ready, 0 = no value\n",
    "data_proc.loc[data_proc['promo_decision'].isna(), 'is_promo'] = 0\n",
    "data_proc.loc[~data_proc['promo_decision'].isna(), 'is_promo'] = 1\n",
    "data_proc['is_promo'] = data_proc['is_promo'].astype(int)\n",
    "data_proc.drop(columns='promo_decision', inplace=True)\n",
    "\n"
   ]
  },
  {
   "cell_type": "code",
   "execution_count": null,
   "id": "da0c9e35",
   "metadata": {},
   "outputs": [],
   "source": [
    "### `Job`: separate `Role` and `Level`\n",
    "data_proc['job_role'] = data_proc['job_level'].str[0]\n",
    "data_proc['job_rank'] = data_proc['job_level'].str[1].astype(int)\n",
    "# data_proc[['job_level', 'job_role', 'job_rank']].head(2)\n",
    "\n"
   ]
  },
  {
   "cell_type": "code",
   "execution_count": null,
   "id": "f2e746bb",
   "metadata": {},
   "outputs": [],
   "source": [
    "### Recode `gender` to `is_men` for statistics\n",
    "data_proc.loc[data_proc['gender']=='men', 'is_men'] = 1\n",
    "data_proc.loc[data_proc['gender']!='men', 'is_men'] = 0\n",
    "data_proc['is_men'] = data_proc['is_men'].astype(int)\n",
    "data_proc.drop(columns='gender', inplace=True)\n",
    "\n"
   ]
  },
  {
   "cell_type": "code",
   "execution_count": null,
   "id": "d4639695",
   "metadata": {},
   "outputs": [],
   "source": [
    "### Recode `perf_rating` to perf_rank: only a rating, no text\n",
    "data_proc['perf_rank'] = data_proc['perf_rating'].str[0].astype(int)\n",
    "\n",
    "\n"
   ]
  },
  {
   "cell_type": "code",
   "execution_count": null,
   "id": "af4b44f5",
   "metadata": {},
   "outputs": [],
   "source": [
    "### Exclude non-performers, i.e. perf_rank = 1 or 2\n",
    "data_proc.drop(data_proc[data_proc['perf_rank'].isin([1,2])].index, inplace=True)\n",
    "print(f'''min: {min(data_proc['perf_rank'])}''')\n",
    "\n"
   ]
  },
  {
   "cell_type": "code",
   "execution_count": null,
   "id": "880ef8c6",
   "metadata": {},
   "outputs": [],
   "source": [
    "data_proc.drop(columns='perf_rating', inplace=True)\n",
    "\n"
   ]
  },
  {
   "cell_type": "markdown",
   "id": "b2e58904",
   "metadata": {},
   "source": [
    "### Inclusion/Exclusion Criteria\n",
    "\n",
    "New promotion this cycle effective dated 2023-09-30.\n",
    "To be eligible for promotion, employees must have a tenure of at least 1.50 years by the 2023-09-30 effective date.\n",
    "\n",
    "    We include employees that have worked longer than 1.5 year"
   ]
  },
  {
   "cell_type": "code",
   "execution_count": null,
   "id": "74221165",
   "metadata": {},
   "outputs": [],
   "source": [
    "### Transform `hire_date` into `tenure` \n",
    "\n",
    "# Convert hire_date to datetime\n",
    "print(f'''* hire_date: from {str(min(data_proc['hire_date']))[:10]} to {str(max(data_proc['hire_date']))[:10]}''')\n",
    "data_proc['hire_date'] = pd.to_datetime(data_proc['hire_date'])\n",
    "\n",
    "# Calculate tenure in years\n",
    "next_promotion_date = '2023-09-30'\n",
    "data_proc['tenure'] = np.round((pd.to_datetime(next_promotion_date) - data_proc['hire_date']).dt.days / 365.25, 1)\n",
    "\n"
   ]
  },
  {
   "cell_type": "code",
   "execution_count": null,
   "id": "b7b10059",
   "metadata": {},
   "outputs": [],
   "source": [
    "data_proc.head(2)\n",
    "\n"
   ]
  },
  {
   "cell_type": "code",
   "execution_count": null,
   "id": "ca23e72d",
   "metadata": {},
   "outputs": [],
   "source": [
    "# Filter employees eligible for promotion\n",
    "data_proc = data_proc[data_proc['tenure'] >= 1]\n",
    "# if 'hire_date' in data_proc.columns: data_proc.drop(columns='hire_date', inplace=True)\n",
    "\n"
   ]
  },
  {
   "cell_type": "markdown",
   "id": "0c8ed935",
   "metadata": {},
   "source": [
    "### QC before proceeding\n",
    "\n"
   ]
  },
  {
   "cell_type": "code",
   "execution_count": null,
   "id": "9e4d9ded",
   "metadata": {},
   "outputs": [],
   "source": [
    "# Drop rows with missing values in key columns, if any\n",
    "data_clean = data_proc.dropna(subset=['perf_rank', 'is_men', 'is_promo'])\n",
    "\n",
    "# Drop duplicates (if any)\n",
    "data_clean = data_clean.drop_duplicates()\n",
    "\n",
    "# Status: notify about number of removed duplicates\n",
    "print(f'duplicates removed: {data_proc.shape[0] - data_clean.shape[0]} records.', \"\\n\\n *** \\n\\n\")\n",
    "\n",
    "# Check the cleaned data\n",
    "print(data_clean.isnull().sum())\n",
    "\n"
   ]
  },
  {
   "cell_type": "code",
   "execution_count": null,
   "id": "332b53b5",
   "metadata": {},
   "outputs": [],
   "source": [
    "print(data_clean.dtypes, \"\\n\\n *** \\n\\n\")\n",
    "\n",
    "\n",
    "# statistics for numeric values\n",
    "data_clean.describe()\n",
    "\n"
   ]
  },
  {
   "cell_type": "markdown",
   "id": "705a973b",
   "metadata": {},
   "source": [
    "---\n",
    "\n",
    "# 3: Analysis\n",
    "\n",
    "    Let's analyze the performance ratings and promotion decisions by gender.\n",
    "\n"
   ]
  },
  {
   "cell_type": "raw",
   "id": "9133938e",
   "metadata": {},
   "source": [
    "data_clean[['perf_rank', 'is_men', 'is_promo']].head(4)\n",
    "\n"
   ]
  },
  {
   "cell_type": "code",
   "execution_count": null,
   "id": "d456b9f9",
   "metadata": {},
   "outputs": [],
   "source": [
    "# Performance ratings by gender\n",
    "data_clean.groupby(['job_role', 'is_men'])['is_promo'].count()\n",
    "# ALUR: no clear difference\n",
    "\n"
   ]
  },
  {
   "cell_type": "code",
   "execution_count": null,
   "id": "c60de1d4",
   "metadata": {},
   "outputs": [],
   "source": [
    "# Performance ratings by gender\n",
    "perf_by_gender = data_clean.groupby('is_men')['perf_rank'].mean()\n",
    "perf_by_gender\n",
    "\n"
   ]
  },
  {
   "cell_type": "code",
   "execution_count": null,
   "id": "2917f8e8",
   "metadata": {},
   "outputs": [],
   "source": [
    "# Promotion decisions by gender\n",
    "promo_by_gender = eligible_for_promo.groupby('is_men')['is_promo'].value_counts(normalize=True).unstack()\n",
    "promo_by_gender\n",
    "\n"
   ]
  },
  {
   "cell_type": "markdown",
   "id": "48591c0c",
   "metadata": {},
   "source": [
    "### Total Average Promotion Rate \n",
    "\n"
   ]
  },
  {
   "cell_type": "code",
   "execution_count": null,
   "id": "b153db6b",
   "metadata": {},
   "outputs": [],
   "source": [
    "avg__is_promo = data_clean.groupby('is_promo')['is_promo'].count() / data_clean['is_promo'].count()\n",
    "print(f'Average Promotion Rate: {np.round(avg__is_promo[1] * 100, 2)}%')\n",
    "\n"
   ]
  },
  {
   "cell_type": "markdown",
   "id": "a49456bc",
   "metadata": {},
   "source": [
    "    Question: what is the average by Role or Level?\n",
    "\n"
   ]
  },
  {
   "cell_type": "code",
   "execution_count": null,
   "id": "b9e3207b",
   "metadata": {},
   "outputs": [],
   "source": [
    "avg_promo__by__job_level = np.round(data_clean.groupby('job_level')['is_promo'].mean()*100, 1)\n",
    "avg_promo__by__job_level\n",
    "\n"
   ]
  },
  {
   "cell_type": "markdown",
   "id": "9114effa",
   "metadata": {},
   "source": [
    "    > ALUR: difference by job level.\n"
   ]
  },
  {
   "cell_type": "code",
   "execution_count": null,
   "id": "3d3a768a",
   "metadata": {},
   "outputs": [],
   "source": [
    "print(f'The difference by job level: from {min(avg_promo__by__job_level)}% up to {max(avg_promo__by__job_level)}%')\n",
    "\n"
   ]
  },
  {
   "cell_type": "markdown",
   "id": "edebb273",
   "metadata": {},
   "source": [
    "---\n",
    "\n",
    "### Differences by `job_role`: not significant\n",
    "\n"
   ]
  },
  {
   "cell_type": "code",
   "execution_count": null,
   "id": "be84379e",
   "metadata": {},
   "outputs": [],
   "source": [
    "avg__is_promo__by__job_role = np.round(data_clean.groupby('job_role')['is_promo'].mean()*100, 1)\n",
    "print(avg__is_promo__by__job_role)\n",
    "\n"
   ]
  },
  {
   "cell_type": "markdown",
   "id": "d79a05f8",
   "metadata": {},
   "source": [
    "### Differences by `job_rank`: not significant\n",
    "\n"
   ]
  },
  {
   "cell_type": "code",
   "execution_count": null,
   "id": "c9ba0afc",
   "metadata": {},
   "outputs": [],
   "source": [
    "np.round(data_clean.groupby('job_rank')['is_promo'].mean()*100, 1)\n",
    "\n"
   ]
  },
  {
   "cell_type": "markdown",
   "id": "1079fec3",
   "metadata": {},
   "source": [
    "## Plot results\n",
    "\n"
   ]
  },
  {
   "cell_type": "code",
   "execution_count": null,
   "id": "cacf8230",
   "metadata": {},
   "outputs": [],
   "source": [
    "data_clean.head(2)"
   ]
  },
  {
   "cell_type": "code",
   "execution_count": null,
   "id": "d330fd96",
   "metadata": {},
   "outputs": [],
   "source": [
    "# Performance ratings boxplot\n",
    "plt.figure(figsize=(5, 3))\n",
    "sns.boxplot(x='perf_rank', y='is_men', data=data_proc)\n",
    "plt.title('Performance Ranks by Gender')\n",
    "plt.show()\n",
    "\n"
   ]
  },
  {
   "cell_type": "code",
   "execution_count": null,
   "id": "281a2ece",
   "metadata": {},
   "outputs": [],
   "source": [
    "# Promotion decision bar plot\n",
    "plt.figure(figsize=(10, 6))\n",
    "promo_by_gender.plot(kind='bar', stacked=True)\n",
    "plt.title('Promotion Decisions by Gender')\n",
    "plt.xlabel('Gender')\n",
    "plt.ylabel('Proportion')\n",
    "plt.legend(title='Promotion Decision')\n",
    "plt.show()\n",
    "\n"
   ]
  },
  {
   "cell_type": "markdown",
   "id": "104a43b4",
   "metadata": {},
   "source": [
    "# Boxplots"
   ]
  },
  {
   "cell_type": "code",
   "execution_count": null,
   "id": "b5c5db92",
   "metadata": {},
   "outputs": [],
   "source": [
    "sns.boxplot(x='job_function', y='is_men', hue='is_promo', data=data_clean)\n",
    "# sns.boxplot(x=['job_function', 'perf_rank'], y='is_promo', data=df)\n",
    "plt.xlabel('Group (x)')\n",
    "plt.ylabel('Value (y)')\n",
    "plt.title('Boxplot of Variable y Grouped by Variable x')\n",
    "plt.show()\n",
    "\n"
   ]
  },
  {
   "cell_type": "markdown",
   "id": "686549bd",
   "metadata": {},
   "source": [
    "## Promotion by Performance and Gender \n",
    "\n"
   ]
  },
  {
   "cell_type": "code",
   "execution_count": null,
   "id": "6038f306",
   "metadata": {},
   "outputs": [],
   "source": [
    "# calculate mean of `x` grouped by`y`:\n",
    "mean_by_groups = pd.DataFrame(data_clean.groupby(['perf_rank', 'is_promo'])['is_men'].mean().reset_index())\n",
    "#mean_by_groups = np.round(mean_by_groups, 2)\n",
    "print(f'{mean_by_groups}')\n",
    "\n",
    "\n",
    "\n",
    "plt.figure(figsize=(8,5))\n",
    "sns.barplot(data=mean_by_groups, x='perf_rank', y='is_men', hue='is_promo')\n",
    "plt.xlabel('perf_rank')\n",
    "plt.ylabel('Mean of `is_men`')\n",
    "plt.title('Mean of `is_men` by `perf_rank` and `is_promo`')\n",
    "plt.legend(title='is_promo')\n",
    "plt.show()\n",
    "\n"
   ]
  },
  {
   "cell_type": "code",
   "execution_count": null,
   "id": "c9bc380a",
   "metadata": {},
   "outputs": [],
   "source": [
    "print(data_clean['is_men'].value_counts())\n",
    "print(data_clean.groupby('is_men')['perf_rank'].describe())\n",
    "\n"
   ]
  },
  {
   "cell_type": "markdown",
   "id": "d5f433bd",
   "metadata": {},
   "source": [
    "## Some charts"
   ]
  },
  {
   "cell_type": "code",
   "execution_count": null,
   "id": "0ec79af9",
   "metadata": {},
   "outputs": [],
   "source": [
    "sns.countplot(data=data_clean, x='is_men')\n",
    "plt.title('Gender Distribution')\n",
    "plt.show()\n",
    "\n"
   ]
  },
  {
   "cell_type": "code",
   "execution_count": null,
   "id": "93bbd68c",
   "metadata": {},
   "outputs": [],
   "source": [
    "sns.barplot(data=data_clean, x='perf_rank', y='is_men')\n",
    "plt.title('Performance Rank by Gender')\n",
    "plt.show()\n",
    "\n"
   ]
  },
  {
   "cell_type": "markdown",
   "id": "cb521afa",
   "metadata": {},
   "source": [
    "## Analyze Promotion Rate by Gender: Calculate the promotion rate for each gender\n",
    "\n"
   ]
  },
  {
   "cell_type": "code",
   "execution_count": null,
   "id": "08eb832d",
   "metadata": {},
   "outputs": [],
   "source": [
    "promotion_rate = data_clean.groupby('is_men')['is_promo'].mean().reset_index()\n",
    "print(promotion_rate)\n",
    "\n",
    "sns.barplot(data=promotion_rate, x='is_men', y='is_promo')\n",
    "plt.title('Promotion Rate by Gender')\n",
    "plt.show()\n",
    "\n"
   ]
  },
  {
   "cell_type": "markdown",
   "id": "b44982d7",
   "metadata": {},
   "source": [
    "## Cross-tabulation for Detailed Analysis:\n",
    "\n",
    "    We use cross-tabulation to analyze the relationship between gender and other categorical variables like region, job group, and job level.\n",
    "\n"
   ]
  },
  {
   "cell_type": "code",
   "execution_count": null,
   "id": "a49fdac5",
   "metadata": {},
   "outputs": [],
   "source": [
    "pd.crosstab(data_clean['is_men'], data_clean['region'])\n",
    "\n"
   ]
  },
  {
   "cell_type": "code",
   "execution_count": null,
   "id": "5bdb1911",
   "metadata": {},
   "outputs": [],
   "source": [
    "pd.crosstab(data_clean['is_men'], data_clean['job_role'])\n",
    "\n"
   ]
  },
  {
   "cell_type": "code",
   "execution_count": null,
   "id": "0ece3a58",
   "metadata": {},
   "outputs": [],
   "source": [
    "pd.crosstab(data_clean['is_men'], data_clean['job_rank'])\n",
    "\n"
   ]
  },
  {
   "cell_type": "markdown",
   "id": "ee642441",
   "metadata": {},
   "source": [
    "## Advanced Visualization:\n",
    "\n",
    "Create more complex visualizations, such as comparing performance rank and promotion rates across multiple variables.\n",
    "\n"
   ]
  },
  {
   "cell_type": "code",
   "execution_count": null,
   "id": "25ed5f13",
   "metadata": {},
   "outputs": [],
   "source": [
    "data_clean.describe()\n",
    "\n"
   ]
  },
  {
   "cell_type": "code",
   "execution_count": null,
   "id": "9673ff21",
   "metadata": {},
   "outputs": [],
   "source": [
    "sns.catplot(data=data_clean, x='perf_rank', y='job_rank', hue='is_men', kind='box')\n",
    "plt.title('Performance Rank by Job Level and Gender')\n",
    "plt.show()\n",
    "\n"
   ]
  },
  {
   "cell_type": "code",
   "execution_count": null,
   "id": "4fef2624",
   "metadata": {
    "scrolled": true
   },
   "outputs": [],
   "source": [
    "sns.catplot(data=data_clean, x='job_function', y='is_promo', hue='is_men', kind='bar')\n",
    "plt.title('Promotion Rate by Job Function and Gender')\n",
    "plt.show()\n",
    "\n"
   ]
  },
  {
   "cell_type": "code",
   "execution_count": null,
   "id": "86d65a56",
   "metadata": {
    "scrolled": false
   },
   "outputs": [],
   "source": [
    "sns.catplot(data=data_clean, x='job_level', y='is_promo', hue='is_men', kind='bar')\n",
    "plt.title('Promotion Rate by Job Level and Gender')\n",
    "plt.show()\n",
    "\n"
   ]
  },
  {
   "cell_type": "code",
   "execution_count": null,
   "id": "45b54177",
   "metadata": {},
   "outputs": [],
   "source": [
    "sns.catplot(data=data_clean, x='region', y='is_promo', hue='is_men', kind='bar')\n",
    "plt.title('Promotion Rate by Job Function and Gender')\n",
    "plt.show()\n",
    "\n"
   ]
  },
  {
   "cell_type": "code",
   "execution_count": null,
   "id": "cfd4da38",
   "metadata": {},
   "outputs": [],
   "source": [
    "sns.catplot(data=data_clean, x='is_promo', y='is_men', hue='job_role', kind='bar')\n",
    "plt.title('Promotion Rate by Job Group and Gender')\n",
    "plt.show()\n",
    "\n"
   ]
  },
  {
   "cell_type": "markdown",
   "id": "01f14772",
   "metadata": {},
   "source": [
    "# Data Insights:\n",
    "\n",
    "    After data analysis, we have a clearer picture of possible gender gaps in performance, promotions, and other job-related metrics.\n",
    "\n",
    "    We can further refine the analysis based on specific findings or delve deeper into areas showing disparities.\n",
    "\n"
   ]
  },
  {
   "cell_type": "markdown",
   "id": "4e551375",
   "metadata": {},
   "source": [
    "# 4. Statistical Testing:\n",
    "\n",
    "Now, let’s run a t-test to check if there’s a significant difference in performance scores based on gender.\n",
    "We’ll also check promotion rates.\n",
    "\n"
   ]
  },
  {
   "cell_type": "code",
   "execution_count": null,
   "id": "59833661",
   "metadata": {},
   "outputs": [],
   "source": [
    "data_clean.head(2)\n",
    "\n"
   ]
  },
  {
   "cell_type": "code",
   "execution_count": null,
   "id": "b1485308",
   "metadata": {},
   "outputs": [],
   "source": [
    "from scipy import stats\n",
    "\n",
    "# Separate performance scores by gender\n",
    "male_performance = data_clean[data_clean['is_men'] == 1]['perf_rank']\n",
    "female_performance = data_clean[data_clean['is_men'] == 0]['perf_rank']\n",
    "\n",
    "# Perform a t-test for performance scores by gender \n",
    "t_stat_performance, p_val_performance = stats.ttest_ind(male_performance, female_performance)\n",
    "print(\"\\nT-test for performance scores by gender:\")\n",
    "print(f\"T-statistic: {np.round(t_stat_performance, 3)}, p-value: {np.round(p_val_performance, 3)}\")\n",
    "\n",
    "# Check if the p-value is less than 0.05 for significance\n",
    "if p_val_performance < 0.05: print(\"There is a significant difference in performance scores by gender.\")\n",
    "else: print(\"No significant difference in performance scores by gender.\")\n",
    "\n"
   ]
  },
  {
   "cell_type": "code",
   "execution_count": null,
   "id": "1bfc5e2a",
   "metadata": {},
   "outputs": [],
   "source": [
    "# Check promotion rates by gender using a Chi-Square test \n",
    "promotion_male = data_clean[data_clean['is_men'] == 1]['is_promo'].value_counts()\n",
    "promotion_female = data_clean[data_clean['is_men'] == 0]['is_promo'].value_counts()\n",
    "\n",
    "# Perform a Chi-Square test for promotion rates\n",
    "chi2_stat, p_val_promotion, dof, expected = stats.chi2_contingency([promotion_male, promotion_female])\n",
    "print(\"\\nChi-Square test for promotion rates by gender:\") \n",
    "print(f\"Chi2 statistic: {np.round(chi2_stat, 3)}, p-value: {np.round(p_val_promotion, 3)}\") \n",
    "# Check if the p-value is less than 0.05 for significance\n",
    "if p_val_promotion < 0.05: print(\"There is a significant difference in promotion rates by gender.\")\n",
    "else: print(\"No significant difference in promotion rates by gender.\") \n",
    "\n"
   ]
  },
  {
   "cell_type": "markdown",
   "id": "4fe22bfd",
   "metadata": {},
   "source": [
    "---\n",
    "\n",
    "# 6. Actionable Insights & Recommendations:\n",
    "\n",
    "    * The data does not show inequalities in performance and promotion about gender.\n",
    "\n",
    "    * Propose solutions based on your findings: \n",
    "        * If there is a gap in promotions despite equal performance, suggest a more transparent promotion process.\n",
    "        * If there's bias in performance reviews, recommend bias training for managers.\n",
    "        * If there’s a lag in time to promotion for one gender, suggest a more equitable pathway for career advancement, with clear timelines and expectations for both genders.\n",
    "\n"
   ]
  },
  {
   "cell_type": "markdown",
   "id": "92a857e8",
   "metadata": {},
   "source": [
    "---\n",
    "\n",
    "# 7. Final Thoughts for the Assignment:\n",
    "\n",
    "\n",
    "    * Be Transparent:\n",
    "        If there are gaps in the data or areas where you couldn't make a solid conclusion, be honest about it.\n",
    "        Transparency will always be appreciated.\n",
    "\n",
    "    * Communicate Clearly:\n",
    "        When you present your findings, make sure to keep it simple and focused.\n",
    "        They want to know the key issues and what to do about them.\n",
    "\n",
    "    * Contextualize Your Findings:\n",
    "        If relevant, refer to external studies or best practices to back up your recommendations, showing that you’re not just talking numbers but also understanding the broader picture of workplace gender equity.\n",
    "\n"
   ]
  },
  {
   "cell_type": "markdown",
   "id": "d07f2e59",
   "metadata": {},
   "source": [
    "# Next Steps:\n",
    "\n",
    "    * Use these insights to make recommendations for addressing any gender inequalities you find.\n",
    "\n",
    "    * If any biases or disparities were found, we could consider introducing more transparent criteria for performance evaluations, or promoting unconscious bias training.\n",
    "\n"
   ]
  },
  {
   "cell_type": "markdown",
   "id": "1c566648",
   "metadata": {},
   "source": [
    "# Conclusion:\n",
    "\n",
    "    With these steps, we have an in-depth, data-driven approach to assess gender inequalities in our dataset.\n",
    "\n",
    "    We did not find significant differences in performance, promotions, or time to promotion, which leaves little room to recommend ways to make the workplace even more equitable for everyone.\n",
    "\n"
   ]
  }
 ],
 "metadata": {
  "kernelspec": {
   "display_name": "Python 3 (ipykernel)",
   "language": "python",
   "name": "python3"
  },
  "language_info": {
   "codemirror_mode": {
    "name": "ipython",
    "version": 3
   },
   "file_extension": ".py",
   "mimetype": "text/x-python",
   "name": "python",
   "nbconvert_exporter": "python",
   "pygments_lexer": "ipython3",
   "version": "3.7.9"
  }
 },
 "nbformat": 4,
 "nbformat_minor": 5
}
