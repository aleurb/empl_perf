{
 "cells": [
  {
   "cell_type": "markdown",
   "id": "f778f012",
   "metadata": {},
   "source": [
    "# Employee performance analysis with `Python`: predictive modelling\n",
    "\n",
    "```\n",
    "@author: Aleksandras Urbonas\n",
    "@date  : 20241211T2250 ALUR\n",
    "```\n"
   ]
  },
  {
   "cell_type": "markdown",
   "id": "509bfdd4",
   "metadata": {},
   "source": [
    "---\n",
    "\n",
    "# 0. Config\n",
    "\n"
   ]
  },
  {
   "cell_type": "code",
   "execution_count": null,
   "id": "c20b14c1",
   "metadata": {},
   "outputs": [],
   "source": [
    "import pandas as pd\n",
    "import numpy as np\n",
    "import seaborn as sns\n",
    "import matplotlib.pyplot as plt\n",
    "\n",
    "# set chart size\n",
    "sns.set_theme(rc={'figure.figsize':(3,3)})\n",
    "\n"
   ]
  },
  {
   "cell_type": "markdown",
   "id": "8a165f09",
   "metadata": {},
   "source": [
    "---\n",
    "\n",
    "# 1. Import data\n",
    "\n"
   ]
  },
  {
   "cell_type": "code",
   "execution_count": null,
   "id": "ee1cc5d6",
   "metadata": {},
   "outputs": [],
   "source": [
    "raw_data_file_path = 'data/data_model.csv'\n",
    "\n",
    "# Load the data\n",
    "data_model = pd.read_csv(raw_data_file_path)\n",
    "\n"
   ]
  },
  {
   "cell_type": "code",
   "execution_count": null,
   "id": "d360a046",
   "metadata": {},
   "outputs": [],
   "source": [
    "# Display the first few rows to understand the structure\n",
    "print(data_model.head(2), end='\\n\\n\\n')\n",
    "\n",
    "# Check the columns and data types\n",
    "print(data_model.info(), end='\\n\\n\\n')\n",
    "\n",
    "# Check for any missing values\n",
    "print(data_model.isnull().sum()) \n",
    "\n"
   ]
  },
  {
   "cell_type": "markdown",
   "id": "27e832c5",
   "metadata": {},
   "source": [
    "---\n",
    "\n",
    "# Predictive\n",
    "\n",
    "Now let's build a predictive model. Is it possible to predict if employee got promoted (binary)\n",
    "\n"
   ]
  },
  {
   "cell_type": "code",
   "execution_count": null,
   "id": "020b0f7f",
   "metadata": {},
   "outputs": [],
   "source": [
    "# import pandas as pd\n",
    "# import numpy as np\n",
    "# import seaborn as sns\n",
    "# import matplotlib.pyplot as plt\n",
    "\n",
    "from sklearn.model_selection import train_test_split\n",
    "from sklearn.preprocessing import StandardScaler\n",
    "from sklearn.ensemble import RandomForestClassifier\n",
    "from sklearn.metrics import classification_report, accuracy_score, confusion_matrix\n",
    "\n"
   ]
  },
  {
   "cell_type": "markdown",
   "id": "6b4b5e65",
   "metadata": {},
   "source": [
    "## Preprocess the Data:\n",
    "\n",
    "    Handle missing values, encode categorical variables, and scale numerical features.\n",
    "\n"
   ]
  },
  {
   "cell_type": "code",
   "execution_count": null,
   "id": "fb678e17",
   "metadata": {},
   "outputs": [],
   "source": [
    "# Handle missing values\n",
    "data_model.fillna(method='ffill', inplace=True)\n",
    "\n"
   ]
  },
  {
   "cell_type": "raw",
   "id": "df4ddc1d",
   "metadata": {},
   "source": [
    "# Drop `hire_date`\n",
    "data_model.drop(columns='hire_date', inplace=True)\n",
    "\n"
   ]
  },
  {
   "cell_type": "code",
   "execution_count": null,
   "id": "31cf29f4",
   "metadata": {},
   "outputs": [],
   "source": [
    "data_model.head(2)"
   ]
  },
  {
   "cell_type": "code",
   "execution_count": null,
   "id": "6ee83bb7",
   "metadata": {},
   "outputs": [],
   "source": [
    "data_model.drop(columns=['job_level', 'job_rank','job_role'], inplace=True)\n",
    "\n"
   ]
  },
  {
   "cell_type": "code",
   "execution_count": null,
   "id": "57b22319",
   "metadata": {},
   "outputs": [],
   "source": [
    "# Encode categorical variables\n",
    "data = pd.get_dummies(\n",
    "    data_model\n",
    "    , columns=['region', 'job_level', 'job_function', 'perf_rank']\n",
    "    , drop_first=False # True\n",
    ")\n",
    "\n",
    "data.head(2)\n",
    "\n"
   ]
  },
  {
   "cell_type": "markdown",
   "id": "72a2cc8d",
   "metadata": {},
   "source": [
    "---\n",
    "\n",
    "## Features for machine learning"
   ]
  },
  {
   "cell_type": "code",
   "execution_count": null,
   "id": "b56f7338",
   "metadata": {},
   "outputs": [],
   "source": [
    "# Extract features and target variable\n",
    "X = data.drop(columns=['is_promo'])\n",
    "y = data['is_promo']\n",
    "\n"
   ]
  },
  {
   "cell_type": "code",
   "execution_count": null,
   "id": "09f58802",
   "metadata": {},
   "outputs": [],
   "source": [
    "X.head(2)\n",
    "\n"
   ]
  },
  {
   "cell_type": "code",
   "execution_count": null,
   "id": "4a93a8a9",
   "metadata": {},
   "outputs": [],
   "source": [
    "X.columns\n",
    "\n"
   ]
  },
  {
   "cell_type": "markdown",
   "id": "c7da03a2",
   "metadata": {},
   "source": [
    "## Class Imbalance\n",
    "\n",
    "    Handling class imbalance is crucial when working with classification problems to ensure that the model performs well across all classes.\n",
    "    \n",
    "    Here are some effective methods to tackle class imbalance in Python:\n",
    "\n"
   ]
  },
  {
   "cell_type": "markdown",
   "id": "a52205ac",
   "metadata": {},
   "source": [
    "### Oversampling:\n",
    "    Increase the number of instances in the minority class by duplicating existing instances or creating synthetic samples.\n",
    "    The imbalanced-learn library offers the SMOTE (Synthetic Minority Over-sampling Technique) algorithm.\n",
    "    \n",
    "    "
   ]
  },
  {
   "cell_type": "raw",
   "id": "ab781c46",
   "metadata": {},
   "source": [
    "from imblearn.over_sampling import SMOTE\n",
    "\n",
    "smote = SMOTE()\n",
    "X_resampled, y_resampled = smote.fit_resample(X, y)\n",
    "\n",
    "X = X_resampled\n",
    "y = y_resampled\n",
    "\n"
   ]
  },
  {
   "cell_type": "markdown",
   "id": "9f2d6928",
   "metadata": {},
   "source": [
    "## Undersampling:\n",
    "\n",
    "    Reduce the number of instances in the majority class.\n",
    "\n"
   ]
  },
  {
   "cell_type": "code",
   "execution_count": null,
   "id": "d76a9756",
   "metadata": {},
   "outputs": [],
   "source": [
    "from imblearn.under_sampling import RandomUnderSampler\n",
    "\n",
    "rus = RandomUnderSampler()\n",
    "\n",
    "X_resampled, y_resampled = rus.fit_resample(X, y)\n",
    "\n"
   ]
  },
  {
   "cell_type": "code",
   "execution_count": null,
   "id": "44f082cc",
   "metadata": {},
   "outputs": [],
   "source": [
    "# assign the train data to the resampled\n",
    "X = X_resampled\n",
    "y = y_resampled\n",
    "\n"
   ]
  },
  {
   "cell_type": "code",
   "execution_count": null,
   "id": "6a3186e5",
   "metadata": {},
   "outputs": [],
   "source": [
    "# Split the data\n",
    "X_train, X_test, y_train, y_test = train_test_split(X, y, test_size=0.3, random_state=8)\n",
    "X_train.head(2)\n",
    "\n"
   ]
  },
  {
   "cell_type": "code",
   "execution_count": null,
   "id": "b83f4370",
   "metadata": {},
   "outputs": [],
   "source": []
  },
  {
   "cell_type": "markdown",
   "id": "9a719505",
   "metadata": {},
   "source": [
    "---\n",
    "\n",
    "# Data anomalies\n",
    "\n"
   ]
  },
  {
   "cell_type": "code",
   "execution_count": null,
   "id": "4c1dfbcb",
   "metadata": {
    "scrolled": true
   },
   "outputs": [],
   "source": [
    "# Fit the model\n",
    "from sklearn.ensemble import IsolationForest\n",
    "\n",
    "clf = IsolationForest(\n",
    "    n_estimators=800\n",
    "    , n_jobs=50\n",
    "    , contamination=0.05\n",
    "\n",
    ")\n",
    "\n",
    "clf.fit(X_train)\n",
    "\n"
   ]
  },
  {
   "cell_type": "code",
   "execution_count": null,
   "id": "d13bc5f3",
   "metadata": {},
   "outputs": [],
   "source": [
    "X_test.head(2)\n",
    "\n"
   ]
  },
  {
   "cell_type": "raw",
   "id": "a4e94854",
   "metadata": {},
   "source": [
    "X_test = X_test.reset_index(drop=True, inplace=True)\n",
    "X_test.head(2)\n",
    "\n"
   ]
  },
  {
   "cell_type": "code",
   "execution_count": null,
   "id": "82be9e37",
   "metadata": {},
   "outputs": [],
   "source": [
    "predictions = clf.predict(X_test)\n",
    "print(predictions[:10])\n",
    "\n"
   ]
  },
  {
   "cell_type": "code",
   "execution_count": null,
   "id": "3b14a997",
   "metadata": {},
   "outputs": [],
   "source": [
    "predictions.shape\n",
    "\n"
   ]
  },
  {
   "cell_type": "code",
   "execution_count": null,
   "id": "8604e902",
   "metadata": {},
   "outputs": [],
   "source": [
    "type(predictions)\n",
    "\n"
   ]
  },
  {
   "cell_type": "code",
   "execution_count": null,
   "id": "99c10803",
   "metadata": {},
   "outputs": [],
   "source": [
    "X_test.shape\n",
    "\n"
   ]
  },
  {
   "cell_type": "code",
   "execution_count": null,
   "id": "a29a8477",
   "metadata": {},
   "outputs": [],
   "source": [
    "# Identify anomalies\n",
    "import numpy as np\n",
    "\n",
    "anomalies = np.where(predictions == -1)[0]\n",
    "anomalous_data = X_test[anomalies]\n",
    "\n"
   ]
  },
  {
   "cell_type": "raw",
   "id": "8f16d398",
   "metadata": {
    "scrolled": true
   },
   "source": [
    "# Visualize the results\n",
    "plt.scatter(X_test[:, 0], X_test[:, 1], color='b', label='Normal')\n",
    "plt.scatter(anomalous_data[:, 0], anomalous_data[:, 1], color='r', label='Anomalies')\n",
    "plt.legend()\n",
    "plt.show()\n",
    "\n"
   ]
  },
  {
   "cell_type": "code",
   "execution_count": null,
   "id": "71c7f753",
   "metadata": {},
   "outputs": [],
   "source": []
  },
  {
   "cell_type": "code",
   "execution_count": null,
   "id": "47cbad6e",
   "metadata": {},
   "outputs": [],
   "source": []
  },
  {
   "cell_type": "code",
   "execution_count": null,
   "id": "484bdf2a",
   "metadata": {},
   "outputs": [],
   "source": []
  },
  {
   "cell_type": "code",
   "execution_count": null,
   "id": "8566556a",
   "metadata": {},
   "outputs": [],
   "source": []
  },
  {
   "cell_type": "code",
   "execution_count": null,
   "id": "a882dce7",
   "metadata": {},
   "outputs": [],
   "source": []
  },
  {
   "cell_type": "code",
   "execution_count": null,
   "id": "3fb5777c",
   "metadata": {},
   "outputs": [],
   "source": [
    "# Scale the features\n",
    "scaler = StandardScaler()\n",
    "X_train = scaler.fit_transform(X_train)\n",
    "X_test = scaler.transform(X_test)\n",
    "\n"
   ]
  },
  {
   "cell_type": "markdown",
   "id": "302ec0be",
   "metadata": {},
   "source": [
    "## Build and Train the Model:\n",
    "\n",
    "    We'll use a Random Forest Classifier for this example.\n",
    "    \n",
    "    Class imbalance: we also adjust the weights of classes so that the model pays more attention to the minority class (promoted).\n"
   ]
  },
  {
   "cell_type": "code",
   "execution_count": null,
   "id": "a200a9c1",
   "metadata": {},
   "outputs": [],
   "source": [
    "# Initialize the model\n",
    "model = RandomForestClassifier(\n",
    "    n_estimators=800\n",
    "    , class_weight='balanced'\n",
    "    , random_state=8\n",
    ")\n",
    "\n"
   ]
  },
  {
   "cell_type": "code",
   "execution_count": null,
   "id": "7346bbb7",
   "metadata": {},
   "outputs": [],
   "source": [
    "# Train the model\n",
    "model.fit(X_train, y_train)\n",
    "\n"
   ]
  },
  {
   "cell_type": "markdown",
   "id": "3abb2128",
   "metadata": {},
   "source": [
    "## Evaluate the Model:"
   ]
  },
  {
   "cell_type": "code",
   "execution_count": null,
   "id": "11b444b9",
   "metadata": {},
   "outputs": [],
   "source": [
    "# Make predictions\n",
    "y_pred = model.predict(X_test)\n",
    "\n"
   ]
  },
  {
   "cell_type": "code",
   "execution_count": null,
   "id": "712287ea",
   "metadata": {},
   "outputs": [],
   "source": [
    "# Evaluate the performance\n",
    "print(\"Accuracy:\\n\", accuracy_score(y_test, y_pred), end=\"\\n-----------------------\\n\\n\")\n",
    "\n",
    "print(\"Confusion Matrix:\\n\", confusion_matrix(y_test, y_pred), end=\"\\n-----------------------\\n\\n\")\n",
    "\n",
    "print(\"Classification Report:\\n\", classification_report(y_test, y_pred), end=\"\\n-----------------------\\n\\n\")\n",
    "\n"
   ]
  },
  {
   "cell_type": "code",
   "execution_count": null,
   "id": "29107199",
   "metadata": {
    "scrolled": true
   },
   "outputs": [],
   "source": [
    "# Plot confusion matrix\n",
    "sns.heatmap(confusion_matrix(y_test, y_pred), annot=True, fmt='d', cmap='Blues')\n",
    "plt.xlabel('Predicted')\n",
    "plt.ylabel('Actual')\n",
    "plt.title('Confusion Matrix')\n",
    "plt.show()\n",
    "\n"
   ]
  },
  {
   "cell_type": "markdown",
   "id": "53f5ef28",
   "metadata": {},
   "source": [
    "## Explanation:\n",
    "\n",
    "Data Preprocessing:\n",
    "\n",
    "    Handling missing values, encoding categorical variables, and scaling numerical features are crucial steps in preparing data for modeling.\n",
    "\n",
    "Model Selection:\n",
    "\n",
    "    A Random Forest Classifier is chosen for its robustness and ability to handle complex data structures.\n",
    "\n",
    "Evaluation:\n",
    "\n",
    "    Accuracy, classification report, and confusion matrix provide insights into the model's performance.\n"
   ]
  },
  {
   "cell_type": "markdown",
   "id": "e3247aff",
   "metadata": {},
   "source": [
    "# Insights:\n",
    "    \n",
    "    A predictive model can determine if an employee is likely to be promoted based on the features provided.\n",
    "    The classification report and confusion matrix help us understand the model's performance and areas for improvement.\n",
    "    We can tweak the model parameters or try different algorithms to see which one performs best on our dataset.\n",
    "\n",
    "    Current model is has an accuracy of 58%, which means it has a low predictive power, although some variance can be explained.\n",
    "    \n",
    "    "
   ]
  }
 ],
 "metadata": {
  "kernelspec": {
   "display_name": "Python 3 (ipykernel)",
   "language": "python",
   "name": "python3"
  },
  "language_info": {
   "codemirror_mode": {
    "name": "ipython",
    "version": 3
   },
   "file_extension": ".py",
   "mimetype": "text/x-python",
   "name": "python",
   "nbconvert_exporter": "python",
   "pygments_lexer": "ipython3",
   "version": "3.7.9"
  }
 },
 "nbformat": 4,
 "nbformat_minor": 5
}
